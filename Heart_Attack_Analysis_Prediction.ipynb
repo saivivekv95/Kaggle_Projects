{
 "cells": [
  {
   "cell_type": "markdown",
   "metadata": {},
   "source": [
    "Let us see the columns description\n",
    "age - Age of the patient\n",
    "\n",
    "sex - Sex of the patient\n",
    "\n",
    "cp - Chest pain type ~ 0 = Typical Angina, 1 = Atypical Angina, 2 = Non-anginal Pain, 3 = Asymptomatic\n",
    "\n",
    "trtbps - Resting blood pressure (in mm Hg)\n",
    "\n",
    "chol - Cholestoral in mg/dl fetched via BMI sensor\n",
    "\n",
    "fbs - (fasting blood sugar > 120 mg/dl) ~ 1 = True, 0 = False\n",
    "\n",
    "restecg - Resting electrocardiographic results ~ 0 = Normal, 1 = ST-T wave normality, 2 = Left ventricular hypertrophy\n",
    "\n",
    "thalachh - Maximum heart rate achieved\n",
    "\n",
    "oldpeak - Previous peak\n",
    "\n",
    "slp - Slope\n",
    "\n",
    "caa - Number of major vessels\n",
    "\n",
    "thall - Thalium Stress Test result ~ (0,3)\n",
    "\n",
    "exng - Exercise induced angina ~ 1 = Yes, 0 = No\n",
    "\n",
    "output - Target variable"
   ]
  },
  {
   "cell_type": "markdown",
   "metadata": {},
   "source": [
    "## Our Task is To perform EDA and predict if a person is prone to a heart attack or not."
   ]
  },
  {
   "cell_type": "code",
   "execution_count": 152,
   "metadata": {},
   "outputs": [],
   "source": [
    "## Lets us import packages\n",
    "import pandas as pd\n",
    "import numpy as np\n",
    "import matplotlib.pyplot as plt\n",
    "import seaborn as sns\n",
    "%matplotlib inline\n",
    "\n",
    "import warnings\n",
    "warnings.filterwarnings(\"ignore\")"
   ]
  },
  {
   "cell_type": "code",
   "execution_count": 5,
   "metadata": {},
   "outputs": [],
   "source": [
    "df = pd.read_csv(\"heart.csv\")"
   ]
  },
  {
   "cell_type": "code",
   "execution_count": 6,
   "metadata": {},
   "outputs": [
    {
     "data": {
      "text/html": [
       "<div>\n",
       "<style scoped>\n",
       "    .dataframe tbody tr th:only-of-type {\n",
       "        vertical-align: middle;\n",
       "    }\n",
       "\n",
       "    .dataframe tbody tr th {\n",
       "        vertical-align: top;\n",
       "    }\n",
       "\n",
       "    .dataframe thead th {\n",
       "        text-align: right;\n",
       "    }\n",
       "</style>\n",
       "<table border=\"1\" class=\"dataframe\">\n",
       "  <thead>\n",
       "    <tr style=\"text-align: right;\">\n",
       "      <th></th>\n",
       "      <th>age</th>\n",
       "      <th>sex</th>\n",
       "      <th>cp</th>\n",
       "      <th>trtbps</th>\n",
       "      <th>chol</th>\n",
       "      <th>fbs</th>\n",
       "      <th>restecg</th>\n",
       "      <th>thalachh</th>\n",
       "      <th>exng</th>\n",
       "      <th>oldpeak</th>\n",
       "      <th>slp</th>\n",
       "      <th>caa</th>\n",
       "      <th>thall</th>\n",
       "      <th>output</th>\n",
       "    </tr>\n",
       "  </thead>\n",
       "  <tbody>\n",
       "    <tr>\n",
       "      <th>0</th>\n",
       "      <td>63</td>\n",
       "      <td>1</td>\n",
       "      <td>3</td>\n",
       "      <td>145</td>\n",
       "      <td>233</td>\n",
       "      <td>1</td>\n",
       "      <td>0</td>\n",
       "      <td>150</td>\n",
       "      <td>0</td>\n",
       "      <td>2.3</td>\n",
       "      <td>0</td>\n",
       "      <td>0</td>\n",
       "      <td>1</td>\n",
       "      <td>1</td>\n",
       "    </tr>\n",
       "    <tr>\n",
       "      <th>1</th>\n",
       "      <td>37</td>\n",
       "      <td>1</td>\n",
       "      <td>2</td>\n",
       "      <td>130</td>\n",
       "      <td>250</td>\n",
       "      <td>0</td>\n",
       "      <td>1</td>\n",
       "      <td>187</td>\n",
       "      <td>0</td>\n",
       "      <td>3.5</td>\n",
       "      <td>0</td>\n",
       "      <td>0</td>\n",
       "      <td>2</td>\n",
       "      <td>1</td>\n",
       "    </tr>\n",
       "    <tr>\n",
       "      <th>2</th>\n",
       "      <td>41</td>\n",
       "      <td>0</td>\n",
       "      <td>1</td>\n",
       "      <td>130</td>\n",
       "      <td>204</td>\n",
       "      <td>0</td>\n",
       "      <td>0</td>\n",
       "      <td>172</td>\n",
       "      <td>0</td>\n",
       "      <td>1.4</td>\n",
       "      <td>2</td>\n",
       "      <td>0</td>\n",
       "      <td>2</td>\n",
       "      <td>1</td>\n",
       "    </tr>\n",
       "    <tr>\n",
       "      <th>3</th>\n",
       "      <td>56</td>\n",
       "      <td>1</td>\n",
       "      <td>1</td>\n",
       "      <td>120</td>\n",
       "      <td>236</td>\n",
       "      <td>0</td>\n",
       "      <td>1</td>\n",
       "      <td>178</td>\n",
       "      <td>0</td>\n",
       "      <td>0.8</td>\n",
       "      <td>2</td>\n",
       "      <td>0</td>\n",
       "      <td>2</td>\n",
       "      <td>1</td>\n",
       "    </tr>\n",
       "    <tr>\n",
       "      <th>4</th>\n",
       "      <td>57</td>\n",
       "      <td>0</td>\n",
       "      <td>0</td>\n",
       "      <td>120</td>\n",
       "      <td>354</td>\n",
       "      <td>0</td>\n",
       "      <td>1</td>\n",
       "      <td>163</td>\n",
       "      <td>1</td>\n",
       "      <td>0.6</td>\n",
       "      <td>2</td>\n",
       "      <td>0</td>\n",
       "      <td>2</td>\n",
       "      <td>1</td>\n",
       "    </tr>\n",
       "  </tbody>\n",
       "</table>\n",
       "</div>"
      ],
      "text/plain": [
       "   age  sex  cp  trtbps  chol  fbs  restecg  thalachh  exng  oldpeak  slp  \\\n",
       "0   63    1   3     145   233    1        0       150     0      2.3    0   \n",
       "1   37    1   2     130   250    0        1       187     0      3.5    0   \n",
       "2   41    0   1     130   204    0        0       172     0      1.4    2   \n",
       "3   56    1   1     120   236    0        1       178     0      0.8    2   \n",
       "4   57    0   0     120   354    0        1       163     1      0.6    2   \n",
       "\n",
       "   caa  thall  output  \n",
       "0    0      1       1  \n",
       "1    0      2       1  \n",
       "2    0      2       1  \n",
       "3    0      2       1  \n",
       "4    0      2       1  "
      ]
     },
     "execution_count": 6,
     "metadata": {},
     "output_type": "execute_result"
    }
   ],
   "source": [
    "df.head()"
   ]
  },
  {
   "cell_type": "code",
   "execution_count": 8,
   "metadata": {},
   "outputs": [
    {
     "data": {
      "text/plain": [
       "(303, 14)"
      ]
     },
     "execution_count": 8,
     "metadata": {},
     "output_type": "execute_result"
    }
   ],
   "source": [
    "##Shape pf dataset\n",
    "df.shape"
   ]
  },
  {
   "cell_type": "code",
   "execution_count": 9,
   "metadata": {},
   "outputs": [
    {
     "data": {
      "text/html": [
       "<div>\n",
       "<style scoped>\n",
       "    .dataframe tbody tr th:only-of-type {\n",
       "        vertical-align: middle;\n",
       "    }\n",
       "\n",
       "    .dataframe tbody tr th {\n",
       "        vertical-align: top;\n",
       "    }\n",
       "\n",
       "    .dataframe thead th {\n",
       "        text-align: right;\n",
       "    }\n",
       "</style>\n",
       "<table border=\"1\" class=\"dataframe\">\n",
       "  <thead>\n",
       "    <tr style=\"text-align: right;\">\n",
       "      <th></th>\n",
       "      <th>age</th>\n",
       "      <th>sex</th>\n",
       "      <th>cp</th>\n",
       "      <th>trtbps</th>\n",
       "      <th>chol</th>\n",
       "      <th>fbs</th>\n",
       "      <th>restecg</th>\n",
       "      <th>thalachh</th>\n",
       "      <th>exng</th>\n",
       "      <th>oldpeak</th>\n",
       "      <th>slp</th>\n",
       "      <th>caa</th>\n",
       "      <th>thall</th>\n",
       "      <th>output</th>\n",
       "    </tr>\n",
       "  </thead>\n",
       "  <tbody>\n",
       "    <tr>\n",
       "      <th>count</th>\n",
       "      <td>303.000000</td>\n",
       "      <td>303.000000</td>\n",
       "      <td>303.000000</td>\n",
       "      <td>303.000000</td>\n",
       "      <td>303.000000</td>\n",
       "      <td>303.000000</td>\n",
       "      <td>303.000000</td>\n",
       "      <td>303.000000</td>\n",
       "      <td>303.000000</td>\n",
       "      <td>303.000000</td>\n",
       "      <td>303.000000</td>\n",
       "      <td>303.000000</td>\n",
       "      <td>303.000000</td>\n",
       "      <td>303.000000</td>\n",
       "    </tr>\n",
       "    <tr>\n",
       "      <th>mean</th>\n",
       "      <td>54.366337</td>\n",
       "      <td>0.683168</td>\n",
       "      <td>0.966997</td>\n",
       "      <td>131.623762</td>\n",
       "      <td>246.264026</td>\n",
       "      <td>0.148515</td>\n",
       "      <td>0.528053</td>\n",
       "      <td>149.646865</td>\n",
       "      <td>0.326733</td>\n",
       "      <td>1.039604</td>\n",
       "      <td>1.399340</td>\n",
       "      <td>0.729373</td>\n",
       "      <td>2.313531</td>\n",
       "      <td>0.544554</td>\n",
       "    </tr>\n",
       "    <tr>\n",
       "      <th>std</th>\n",
       "      <td>9.082101</td>\n",
       "      <td>0.466011</td>\n",
       "      <td>1.032052</td>\n",
       "      <td>17.538143</td>\n",
       "      <td>51.830751</td>\n",
       "      <td>0.356198</td>\n",
       "      <td>0.525860</td>\n",
       "      <td>22.905161</td>\n",
       "      <td>0.469794</td>\n",
       "      <td>1.161075</td>\n",
       "      <td>0.616226</td>\n",
       "      <td>1.022606</td>\n",
       "      <td>0.612277</td>\n",
       "      <td>0.498835</td>\n",
       "    </tr>\n",
       "    <tr>\n",
       "      <th>min</th>\n",
       "      <td>29.000000</td>\n",
       "      <td>0.000000</td>\n",
       "      <td>0.000000</td>\n",
       "      <td>94.000000</td>\n",
       "      <td>126.000000</td>\n",
       "      <td>0.000000</td>\n",
       "      <td>0.000000</td>\n",
       "      <td>71.000000</td>\n",
       "      <td>0.000000</td>\n",
       "      <td>0.000000</td>\n",
       "      <td>0.000000</td>\n",
       "      <td>0.000000</td>\n",
       "      <td>0.000000</td>\n",
       "      <td>0.000000</td>\n",
       "    </tr>\n",
       "    <tr>\n",
       "      <th>25%</th>\n",
       "      <td>47.500000</td>\n",
       "      <td>0.000000</td>\n",
       "      <td>0.000000</td>\n",
       "      <td>120.000000</td>\n",
       "      <td>211.000000</td>\n",
       "      <td>0.000000</td>\n",
       "      <td>0.000000</td>\n",
       "      <td>133.500000</td>\n",
       "      <td>0.000000</td>\n",
       "      <td>0.000000</td>\n",
       "      <td>1.000000</td>\n",
       "      <td>0.000000</td>\n",
       "      <td>2.000000</td>\n",
       "      <td>0.000000</td>\n",
       "    </tr>\n",
       "    <tr>\n",
       "      <th>50%</th>\n",
       "      <td>55.000000</td>\n",
       "      <td>1.000000</td>\n",
       "      <td>1.000000</td>\n",
       "      <td>130.000000</td>\n",
       "      <td>240.000000</td>\n",
       "      <td>0.000000</td>\n",
       "      <td>1.000000</td>\n",
       "      <td>153.000000</td>\n",
       "      <td>0.000000</td>\n",
       "      <td>0.800000</td>\n",
       "      <td>1.000000</td>\n",
       "      <td>0.000000</td>\n",
       "      <td>2.000000</td>\n",
       "      <td>1.000000</td>\n",
       "    </tr>\n",
       "    <tr>\n",
       "      <th>75%</th>\n",
       "      <td>61.000000</td>\n",
       "      <td>1.000000</td>\n",
       "      <td>2.000000</td>\n",
       "      <td>140.000000</td>\n",
       "      <td>274.500000</td>\n",
       "      <td>0.000000</td>\n",
       "      <td>1.000000</td>\n",
       "      <td>166.000000</td>\n",
       "      <td>1.000000</td>\n",
       "      <td>1.600000</td>\n",
       "      <td>2.000000</td>\n",
       "      <td>1.000000</td>\n",
       "      <td>3.000000</td>\n",
       "      <td>1.000000</td>\n",
       "    </tr>\n",
       "    <tr>\n",
       "      <th>max</th>\n",
       "      <td>77.000000</td>\n",
       "      <td>1.000000</td>\n",
       "      <td>3.000000</td>\n",
       "      <td>200.000000</td>\n",
       "      <td>564.000000</td>\n",
       "      <td>1.000000</td>\n",
       "      <td>2.000000</td>\n",
       "      <td>202.000000</td>\n",
       "      <td>1.000000</td>\n",
       "      <td>6.200000</td>\n",
       "      <td>2.000000</td>\n",
       "      <td>4.000000</td>\n",
       "      <td>3.000000</td>\n",
       "      <td>1.000000</td>\n",
       "    </tr>\n",
       "  </tbody>\n",
       "</table>\n",
       "</div>"
      ],
      "text/plain": [
       "              age         sex          cp      trtbps        chol         fbs  \\\n",
       "count  303.000000  303.000000  303.000000  303.000000  303.000000  303.000000   \n",
       "mean    54.366337    0.683168    0.966997  131.623762  246.264026    0.148515   \n",
       "std      9.082101    0.466011    1.032052   17.538143   51.830751    0.356198   \n",
       "min     29.000000    0.000000    0.000000   94.000000  126.000000    0.000000   \n",
       "25%     47.500000    0.000000    0.000000  120.000000  211.000000    0.000000   \n",
       "50%     55.000000    1.000000    1.000000  130.000000  240.000000    0.000000   \n",
       "75%     61.000000    1.000000    2.000000  140.000000  274.500000    0.000000   \n",
       "max     77.000000    1.000000    3.000000  200.000000  564.000000    1.000000   \n",
       "\n",
       "          restecg    thalachh        exng     oldpeak         slp         caa  \\\n",
       "count  303.000000  303.000000  303.000000  303.000000  303.000000  303.000000   \n",
       "mean     0.528053  149.646865    0.326733    1.039604    1.399340    0.729373   \n",
       "std      0.525860   22.905161    0.469794    1.161075    0.616226    1.022606   \n",
       "min      0.000000   71.000000    0.000000    0.000000    0.000000    0.000000   \n",
       "25%      0.000000  133.500000    0.000000    0.000000    1.000000    0.000000   \n",
       "50%      1.000000  153.000000    0.000000    0.800000    1.000000    0.000000   \n",
       "75%      1.000000  166.000000    1.000000    1.600000    2.000000    1.000000   \n",
       "max      2.000000  202.000000    1.000000    6.200000    2.000000    4.000000   \n",
       "\n",
       "            thall      output  \n",
       "count  303.000000  303.000000  \n",
       "mean     2.313531    0.544554  \n",
       "std      0.612277    0.498835  \n",
       "min      0.000000    0.000000  \n",
       "25%      2.000000    0.000000  \n",
       "50%      2.000000    1.000000  \n",
       "75%      3.000000    1.000000  \n",
       "max      3.000000    1.000000  "
      ]
     },
     "execution_count": 9,
     "metadata": {},
     "output_type": "execute_result"
    }
   ],
   "source": [
    "##Dataset description\n",
    "df.describe()"
   ]
  },
  {
   "cell_type": "code",
   "execution_count": 11,
   "metadata": {},
   "outputs": [
    {
     "data": {
      "text/plain": [
       "age         0\n",
       "sex         0\n",
       "cp          0\n",
       "trtbps      0\n",
       "chol        0\n",
       "fbs         0\n",
       "restecg     0\n",
       "thalachh    0\n",
       "exng        0\n",
       "oldpeak     0\n",
       "slp         0\n",
       "caa         0\n",
       "thall       0\n",
       "output      0\n",
       "dtype: int64"
      ]
     },
     "execution_count": 11,
     "metadata": {},
     "output_type": "execute_result"
    }
   ],
   "source": [
    "##Lets check the null values\n",
    "df.isnull().sum()\n",
    "###There are no null values in our dataset"
   ]
  },
  {
   "cell_type": "code",
   "execution_count": 16,
   "metadata": {},
   "outputs": [
    {
     "data": {
      "text/html": [
       "<div>\n",
       "<style scoped>\n",
       "    .dataframe tbody tr th:only-of-type {\n",
       "        vertical-align: middle;\n",
       "    }\n",
       "\n",
       "    .dataframe tbody tr th {\n",
       "        vertical-align: top;\n",
       "    }\n",
       "\n",
       "    .dataframe thead th {\n",
       "        text-align: right;\n",
       "    }\n",
       "</style>\n",
       "<table border=\"1\" class=\"dataframe\">\n",
       "  <thead>\n",
       "    <tr style=\"text-align: right;\">\n",
       "      <th></th>\n",
       "      <th>unique count</th>\n",
       "    </tr>\n",
       "  </thead>\n",
       "  <tbody>\n",
       "    <tr>\n",
       "      <th>age</th>\n",
       "      <td>41</td>\n",
       "    </tr>\n",
       "    <tr>\n",
       "      <th>sex</th>\n",
       "      <td>2</td>\n",
       "    </tr>\n",
       "    <tr>\n",
       "      <th>cp</th>\n",
       "      <td>4</td>\n",
       "    </tr>\n",
       "    <tr>\n",
       "      <th>trtbps</th>\n",
       "      <td>49</td>\n",
       "    </tr>\n",
       "    <tr>\n",
       "      <th>chol</th>\n",
       "      <td>152</td>\n",
       "    </tr>\n",
       "    <tr>\n",
       "      <th>fbs</th>\n",
       "      <td>2</td>\n",
       "    </tr>\n",
       "    <tr>\n",
       "      <th>restecg</th>\n",
       "      <td>3</td>\n",
       "    </tr>\n",
       "    <tr>\n",
       "      <th>thalachh</th>\n",
       "      <td>91</td>\n",
       "    </tr>\n",
       "    <tr>\n",
       "      <th>exng</th>\n",
       "      <td>2</td>\n",
       "    </tr>\n",
       "    <tr>\n",
       "      <th>oldpeak</th>\n",
       "      <td>40</td>\n",
       "    </tr>\n",
       "    <tr>\n",
       "      <th>slp</th>\n",
       "      <td>3</td>\n",
       "    </tr>\n",
       "    <tr>\n",
       "      <th>caa</th>\n",
       "      <td>5</td>\n",
       "    </tr>\n",
       "    <tr>\n",
       "      <th>thall</th>\n",
       "      <td>4</td>\n",
       "    </tr>\n",
       "    <tr>\n",
       "      <th>output</th>\n",
       "      <td>2</td>\n",
       "    </tr>\n",
       "  </tbody>\n",
       "</table>\n",
       "</div>"
      ],
      "text/plain": [
       "          unique count\n",
       "age                 41\n",
       "sex                  2\n",
       "cp                   4\n",
       "trtbps              49\n",
       "chol               152\n",
       "fbs                  2\n",
       "restecg              3\n",
       "thalachh            91\n",
       "exng                 2\n",
       "oldpeak             40\n",
       "slp                  3\n",
       "caa                  5\n",
       "thall                4\n",
       "output               2"
      ]
     },
     "execution_count": 16,
     "metadata": {},
     "output_type": "execute_result"
    }
   ],
   "source": [
    "#Lets check the unique values in our dataset\n",
    "dict = {}\n",
    "for i in list(df.columns):\n",
    "    dict[i] = df[i].value_counts().shape[0]\n",
    "\n",
    "pd.DataFrame(dict,index=[\"unique count\"]).transpose()"
   ]
  },
  {
   "cell_type": "code",
   "execution_count": 18,
   "metadata": {},
   "outputs": [
    {
     "data": {
      "text/plain": [
       "age           int64\n",
       "sex           int64\n",
       "cp            int64\n",
       "trtbps        int64\n",
       "chol          int64\n",
       "fbs           int64\n",
       "restecg       int64\n",
       "thalachh      int64\n",
       "exng          int64\n",
       "oldpeak     float64\n",
       "slp           int64\n",
       "caa           int64\n",
       "thall         int64\n",
       "output        int64\n",
       "dtype: object"
      ]
     },
     "execution_count": 18,
     "metadata": {},
     "output_type": "execute_result"
    }
   ],
   "source": [
    "##Lets check the data types of our columns\n",
    "df.dtypes"
   ]
  },
  {
   "cell_type": "code",
   "execution_count": 115,
   "metadata": {},
   "outputs": [
    {
     "data": {
      "text/plain": [
       "[Text(0.5, 0, 'sex'), Text(0, 0.5, 'count')]"
      ]
     },
     "execution_count": 115,
     "metadata": {},
     "output_type": "execute_result"
    },
    {
     "data": {
      "image/png": "[encoded data removed]",
      "text/plain": [
       "<Figure size 432x288 with 1 Axes>"
      ]
     },
     "metadata": {},
     "output_type": "display_data"
    }
   ],
   "source": [
    "## Univariate analysis\n",
    "ax = sns.countplot(x=\"sex\", data=df,\n",
    "                   facecolor=(0, 0, 0, 0),\n",
    "                   linewidth=5,\n",
    "                   edgecolor=sns.color_palette(\"dark\", 3))\n",
    "ax.set(xlabel='sex', ylabel='count')\n",
    "### The count of male is more in out dataset"
   ]
  },
  {
   "cell_type": "code",
   "execution_count": 105,
   "metadata": {},
   "outputs": [
    {
     "data": {
      "text/plain": [
       "[Text(0.5, 0, 'exng'), Text(0, 0.5, 'count')]"
      ]
     },
     "execution_count": 105,
     "metadata": {},
     "output_type": "execute_result"
    },
    {
     "data": {
      "image/png": "[encoded data removed]",
      "text/plain": [
       "<Figure size 432x288 with 1 Axes>"
      ]
     },
     "metadata": {},
     "output_type": "display_data"
    }
   ],
   "source": [
    "ax = sns.countplot(x=\"exng\", data=df,\n",
    "                   facecolor=(0, 0, 0, 0),\n",
    "                   linewidth=5,\n",
    "                   edgecolor=sns.color_palette(\"dark\", 2))\n",
    "ax.set(xlabel='exng', ylabel='count')"
   ]
  },
  {
   "cell_type": "code",
   "execution_count": 99,
   "metadata": {},
   "outputs": [
    {
     "data": {
      "text/plain": [
       "(array([ 1.,  0.,  6.,  5.,  7., 26., 19., 19., 12., 25., 32., 28., 44.,\n",
       "        19., 19., 24.,  7.,  7.,  1.,  2.]),\n",
       " array([29. , 31.4, 33.8, 36.2, 38.6, 41. , 43.4, 45.8, 48.2, 50.6, 53. ,\n",
       "        55.4, 57.8, 60.2, 62.6, 65. , 67.4, 69.8, 72.2, 74.6, 77. ]),\n",
       " [<matplotlib.patches.Polygon at 0x2a00e258fc8>])"
      ]
     },
     "execution_count": 99,
     "metadata": {},
     "output_type": "execute_result"
    },
    {
     "data": {
      "image/png": "[encoded data removed]",
      "text/plain": [
       "<Figure size 432x288 with 1 Axes>"
      ]
     },
     "metadata": {},
     "output_type": "display_data"
    }
   ],
   "source": [
    "# Lets plot age (Continous variable)\n",
    "plt.hist(x='age',bins=20,histtype='step',color='#28B463',data=df)\n",
    "### Our dataset contains age group between 40-70"
   ]
  },
  {
   "cell_type": "code",
   "execution_count": 102,
   "metadata": {},
   "outputs": [
    {
     "data": {
      "text/plain": [
       "(array([ 2.,  8., 10., 32., 45., 22., 52., 22., 45., 12., 24.,  3., 11.,\n",
       "         2.,  5.,  3.,  3.,  0.,  1.,  1.]),\n",
       " array([ 94. ,  99.3, 104.6, 109.9, 115.2, 120.5, 125.8, 131.1, 136.4,\n",
       "        141.7, 147. , 152.3, 157.6, 162.9, 168.2, 173.5, 178.8, 184.1,\n",
       "        189.4, 194.7, 200. ]),\n",
       " <BarContainer object of 20 artists>)"
      ]
     },
     "execution_count": 102,
     "metadata": {},
     "output_type": "execute_result"
    },
    {
     "data": {
      "image/png": "[encoded data removed]",
      "text/plain": [
       "<Figure size 432x288 with 1 Axes>"
      ]
     },
     "metadata": {},
     "output_type": "display_data"
    }
   ],
   "source": [
    "## trtbps plotting\n",
    "plt.hist(x='trtbps',bins=20,histtype='barstacked',color='#9B59B6',data=df)"
   ]
  },
  {
   "cell_type": "code",
   "execution_count": 104,
   "metadata": {},
   "outputs": [
    {
     "data": {
      "text/plain": [
       "(array([ 3.,  9., 20., 53., 55., 51., 42., 27., 24., 11.,  3.,  0.,  3.,\n",
       "         1.,  0.,  0.,  0.,  0.,  0.,  1.]),\n",
       " array([126. , 147.9, 169.8, 191.7, 213.6, 235.5, 257.4, 279.3, 301.2,\n",
       "        323.1, 345. , 366.9, 388.8, 410.7, 432.6, 454.5, 476.4, 498.3,\n",
       "        520.2, 542.1, 564. ]),\n",
       " [<matplotlib.patches.Polygon at 0x2a00e4eb588>])"
      ]
     },
     "execution_count": 104,
     "metadata": {},
     "output_type": "execute_result"
    },
    {
     "data": {
      "image/png": "[encoded data removed]",
      "text/plain": [
       "<Figure size 432x288 with 1 Axes>"
      ]
     },
     "metadata": {},
     "output_type": "display_data"
    }
   ],
   "source": [
    "##chol plotting\n",
    "plt.hist(x='chol',bins=20,histtype='stepfilled',color='#B9770E',data=df)\n",
    "## We can observe outliers as well"
   ]
  },
  {
   "cell_type": "code",
   "execution_count": 112,
   "metadata": {},
   "outputs": [
    {
     "data": {
      "text/plain": [
       "[Text(0.5, 0, 'caa'), Text(0, 0.5, 'count')]"
      ]
     },
     "execution_count": 112,
     "metadata": {},
     "output_type": "execute_result"
    },
    {
     "data": {
      "image/png": "[encoded data removed]",
      "text/plain": [
       "<Figure size 432x288 with 1 Axes>"
      ]
     },
     "metadata": {},
     "output_type": "display_data"
    }
   ],
   "source": [
    "ax = sns.countplot(x=\"caa\", data=df,\n",
    "                   facecolor=(0, 0, 0, 0),\n",
    "                   linewidth=5,\n",
    "                   edgecolor=sns.color_palette(\"dark\", 5))\n",
    "ax.set(xlabel='caa', ylabel='count')"
   ]
  },
  {
   "cell_type": "code",
   "execution_count": 113,
   "metadata": {},
   "outputs": [
    {
     "data": {
      "text/plain": [
       "[Text(0.5, 0, 'cp'), Text(0, 0.5, 'count')]"
      ]
     },
     "execution_count": 113,
     "metadata": {},
     "output_type": "execute_result"
    },
    {
     "data": {
      "image/png": "[encoded data removed]",
      "text/plain": [
       "<Figure size 432x288 with 1 Axes>"
      ]
     },
     "metadata": {},
     "output_type": "display_data"
    }
   ],
   "source": [
    "ax = sns.countplot(x=\"cp\", data=df,\n",
    "                   facecolor=(0, 0, 0, 0),\n",
    "                   linewidth=5,\n",
    "                   edgecolor=sns.color_palette(\"dark\", 4))\n",
    "ax.set(xlabel='cp', ylabel='count')"
   ]
  },
  {
   "cell_type": "code",
   "execution_count": 117,
   "metadata": {},
   "outputs": [
    {
     "data": {
      "text/plain": [
       "[Text(0.5, 0, 'restecg'), Text(0, 0.5, 'count')]"
      ]
     },
     "execution_count": 117,
     "metadata": {},
     "output_type": "execute_result"
    },
    {
     "data": {
      "image/png": "[encoded data removed]",
      "text/plain": [
       "<Figure size 432x288 with 1 Axes>"
      ]
     },
     "metadata": {},
     "output_type": "display_data"
    }
   ],
   "source": [
    "ax = sns.countplot(x=\"restecg\", data=df,\n",
    "                   facecolor=(0, 0, 0, 0),\n",
    "                   linewidth=5,\n",
    "                   edgecolor=sns.color_palette(\"dark\", 3))\n",
    "ax.set(xlabel='restecg', ylabel='count')"
   ]
  },
  {
   "cell_type": "code",
   "execution_count": 121,
   "metadata": {},
   "outputs": [
    {
     "data": {
      "text/plain": [
       "(array([121.,  28.,  17.,  33.,  19.,  21.,  15.,   9.,   8.,  12.,   6.,\n",
       "          5.,   4.,   2.,   1.,   0.,   0.,   0.,   1.,   1.]),\n",
       " array([0.  , 0.31, 0.62, 0.93, 1.24, 1.55, 1.86, 2.17, 2.48, 2.79, 3.1 ,\n",
       "        3.41, 3.72, 4.03, 4.34, 4.65, 4.96, 5.27, 5.58, 5.89, 6.2 ]),\n",
       " <BarContainer object of 20 artists>)"
      ]
     },
     "execution_count": 121,
     "metadata": {},
     "output_type": "execute_result"
    },
    {
     "data": {
      "image/png": "[encoded data removed]",
      "text/plain": [
       "<Figure size 432x288 with 1 Axes>"
      ]
     },
     "metadata": {},
     "output_type": "display_data"
    }
   ],
   "source": [
    "plt.hist(x='oldpeak',bins=20,color='#3498DB',data=df)"
   ]
  },
  {
   "cell_type": "code",
   "execution_count": 127,
   "metadata": {},
   "outputs": [
    {
     "data": {
      "text/html": [
       "<style  type=\"text/css\" >\n",
       "#T_8c070_row0_col0,#T_8c070_row1_col1,#T_8c070_row2_col2,#T_8c070_row3_col3,#T_8c070_row4_col4,#T_8c070_row5_col5,#T_8c070_row6_col6,#T_8c070_row7_col7,#T_8c070_row8_col8,#T_8c070_row9_col9,#T_8c070_row10_col10,#T_8c070_row11_col11,#T_8c070_row12_col12,#T_8c070_row13_col13{\n",
       "            background-color:  #b40426;\n",
       "            color:  #f1f1f1;\n",
       "        }#T_8c070_row0_col1{\n",
       "            background-color:  #6788ee;\n",
       "            color:  #000000;\n",
       "        }#T_8c070_row0_col2,#T_8c070_row4_col3,#T_8c070_row5_col12{\n",
       "            background-color:  #86a9fc;\n",
       "            color:  #000000;\n",
       "        }#T_8c070_row0_col3,#T_8c070_row5_col9,#T_8c070_row10_col2,#T_8c070_row11_col12{\n",
       "            background-color:  #b6cefa;\n",
       "            color:  #000000;\n",
       "        }#T_8c070_row0_col4{\n",
       "            background-color:  #adc9fd;\n",
       "            color:  #000000;\n",
       "        }#T_8c070_row0_col5{\n",
       "            background-color:  #779af7;\n",
       "            color:  #000000;\n",
       "        }#T_8c070_row0_col6,#T_8c070_row2_col8{\n",
       "            background-color:  #4358cb;\n",
       "            color:  #f1f1f1;\n",
       "        }#T_8c070_row0_col7,#T_8c070_row1_col4,#T_8c070_row4_col6,#T_8c070_row6_col5,#T_8c070_row7_col0,#T_8c070_row8_col2,#T_8c070_row8_col13,#T_8c070_row9_col10,#T_8c070_row10_col9,#T_8c070_row13_col1,#T_8c070_row13_col3,#T_8c070_row13_col8,#T_8c070_row13_col11,#T_8c070_row13_col12{\n",
       "            background-color:  #3b4cc0;\n",
       "            color:  #f1f1f1;\n",
       "        }#T_8c070_row0_col8,#T_8c070_row5_col0{\n",
       "            background-color:  #b7cff9;\n",
       "            color:  #000000;\n",
       "        }#T_8c070_row0_col9,#T_8c070_row2_col7,#T_8c070_row12_col9{\n",
       "            background-color:  #dcdddd;\n",
       "            color:  #000000;\n",
       "        }#T_8c070_row0_col10{\n",
       "            background-color:  #90b2fe;\n",
       "            color:  #000000;\n",
       "        }#T_8c070_row0_col11{\n",
       "            background-color:  #d7dce3;\n",
       "            color:  #000000;\n",
       "        }#T_8c070_row0_col12{\n",
       "            background-color:  #a1c0ff;\n",
       "            color:  #000000;\n",
       "        }#T_8c070_row0_col13,#T_8c070_row7_col9{\n",
       "            background-color:  #688aef;\n",
       "            color:  #000000;\n",
       "        }#T_8c070_row1_col0,#T_8c070_row10_col6{\n",
       "            background-color:  #80a3fa;\n",
       "            color:  #000000;\n",
       "        }#T_8c070_row1_col2,#T_8c070_row6_col12,#T_8c070_row12_col4{\n",
       "            background-color:  #8caffe;\n",
       "            color:  #000000;\n",
       "        }#T_8c070_row1_col3{\n",
       "            background-color:  #516ddb;\n",
       "            color:  #000000;\n",
       "        }#T_8c070_row1_col5,#T_8c070_row12_col6{\n",
       "            background-color:  #5f7fe8;\n",
       "            color:  #000000;\n",
       "        }#T_8c070_row1_col6,#T_8c070_row9_col6{\n",
       "            background-color:  #536edd;\n",
       "            color:  #000000;\n",
       "        }#T_8c070_row1_col7,#T_8c070_row3_col7,#T_8c070_row13_col6{\n",
       "            background-color:  #8db0fe;\n",
       "            color:  #000000;\n",
       "        }#T_8c070_row1_col8{\n",
       "            background-color:  #c1d4f4;\n",
       "            color:  #000000;\n",
       "        }#T_8c070_row1_col9{\n",
       "            background-color:  #c9d7f0;\n",
       "            color:  #000000;\n",
       "        }#T_8c070_row1_col10{\n",
       "            background-color:  #aec9fc;\n",
       "            color:  #000000;\n",
       "        }#T_8c070_row1_col11,#T_8c070_row4_col10,#T_8c070_row8_col11{\n",
       "            background-color:  #b5cdfa;\n",
       "            color:  #000000;\n",
       "        }#T_8c070_row1_col12,#T_8c070_row9_col12{\n",
       "            background-color:  #c4d5f3;\n",
       "            color:  #000000;\n",
       "        }#T_8c070_row1_col13{\n",
       "            background-color:  #5b7ae5;\n",
       "            color:  #000000;\n",
       "        }#T_8c070_row2_col0{\n",
       "            background-color:  #88abfd;\n",
       "            color:  #000000;\n",
       "        }#T_8c070_row2_col1,#T_8c070_row12_col3{\n",
       "            background-color:  #7597f6;\n",
       "            color:  #000000;\n",
       "        }#T_8c070_row2_col3,#T_8c070_row2_col6,#T_8c070_row7_col6{\n",
       "            background-color:  #7093f3;\n",
       "            color:  #000000;\n",
       "        }#T_8c070_row2_col4,#T_8c070_row8_col5{\n",
       "            background-color:  #5977e3;\n",
       "            color:  #000000;\n",
       "        }#T_8c070_row2_col5,#T_8c070_row10_col0,#T_8c070_row12_col2{\n",
       "            background-color:  #6f92f3;\n",
       "            color:  #000000;\n",
       "        }#T_8c070_row2_col9{\n",
       "            background-color:  #94b6ff;\n",
       "            color:  #000000;\n",
       "        }#T_8c070_row2_col10,#T_8c070_row9_col11{\n",
       "            background-color:  #cdd9ec;\n",
       "            color:  #000000;\n",
       "        }#T_8c070_row2_col11{\n",
       "            background-color:  #6a8bef;\n",
       "            color:  #000000;\n",
       "        }#T_8c070_row2_col12{\n",
       "            background-color:  #6485ec;\n",
       "            color:  #000000;\n",
       "        }#T_8c070_row2_col13{\n",
       "            background-color:  #f2c9b4;\n",
       "            color:  #000000;\n",
       "        }#T_8c070_row3_col0{\n",
       "            background-color:  #d9dce1;\n",
       "            color:  #000000;\n",
       "        }#T_8c070_row3_col1,#T_8c070_row6_col1,#T_8c070_row9_col2{\n",
       "            background-color:  #7295f4;\n",
       "            color:  #000000;\n",
       "        }#T_8c070_row3_col2,#T_8c070_row6_col7{\n",
       "            background-color:  #a5c3fe;\n",
       "            color:  #000000;\n",
       "        }#T_8c070_row3_col4{\n",
       "            background-color:  #93b5fe;\n",
       "            color:  #000000;\n",
       "        }#T_8c070_row3_col5{\n",
       "            background-color:  #89acfd;\n",
       "            color:  #000000;\n",
       "        }#T_8c070_row3_col6,#T_8c070_row11_col13{\n",
       "            background-color:  #445acc;\n",
       "            color:  #f1f1f1;\n",
       "        }#T_8c070_row3_col8,#T_8c070_row4_col8,#T_8c070_row5_col2{\n",
       "            background-color:  #afcafc;\n",
       "            color:  #000000;\n",
       "        }#T_8c070_row3_col9{\n",
       "            background-color:  #dadce0;\n",
       "            color:  #000000;\n",
       "        }#T_8c070_row3_col10{\n",
       "            background-color:  #9bbcff;\n",
       "            color:  #000000;\n",
       "        }#T_8c070_row3_col11,#T_8c070_row8_col0{\n",
       "            background-color:  #b1cbfc;\n",
       "            color:  #000000;\n",
       "        }#T_8c070_row3_col12{\n",
       "            background-color:  #9fbfff;\n",
       "            color:  #000000;\n",
       "        }#T_8c070_row3_col13,#T_8c070_row6_col0,#T_8c070_row8_col10{\n",
       "            background-color:  #7b9ff9;\n",
       "            color:  #000000;\n",
       "        }#T_8c070_row4_col0{\n",
       "            background-color:  #ccd9ed;\n",
       "            color:  #000000;\n",
       "        }#T_8c070_row4_col1,#T_8c070_row12_col13{\n",
       "            background-color:  #4e68d8;\n",
       "            color:  #000000;\n",
       "        }#T_8c070_row4_col2,#T_8c070_row6_col11{\n",
       "            background-color:  #85a8fc;\n",
       "            color:  #000000;\n",
       "        }#T_8c070_row4_col5,#T_8c070_row13_col9{\n",
       "            background-color:  #5673e0;\n",
       "            color:  #000000;\n",
       "        }#T_8c070_row4_col7,#T_8c070_row5_col7{\n",
       "            background-color:  #97b8ff;\n",
       "            color:  #000000;\n",
       "        }#T_8c070_row4_col9,#T_8c070_row6_col13{\n",
       "            background-color:  #c0d4f5;\n",
       "            color:  #000000;\n",
       "        }#T_8c070_row4_col11,#T_8c070_row12_col0{\n",
       "            background-color:  #aac7fd;\n",
       "            color:  #000000;\n",
       "        }#T_8c070_row4_col12,#T_8c070_row5_col10,#T_8c070_row6_col9,#T_8c070_row8_col1{\n",
       "            background-color:  #a9c6fd;\n",
       "            color:  #000000;\n",
       "        }#T_8c070_row4_col13{\n",
       "            background-color:  #8badfd;\n",
       "            color:  #000000;\n",
       "        }#T_8c070_row5_col1,#T_8c070_row6_col8{\n",
       "            background-color:  #8fb1fe;\n",
       "            color:  #000000;\n",
       "        }#T_8c070_row5_col3,#T_8c070_row5_col13{\n",
       "            background-color:  #98b9ff;\n",
       "            color:  #000000;\n",
       "        }#T_8c070_row5_col4,#T_8c070_row10_col12{\n",
       "            background-color:  #7396f5;\n",
       "            color:  #000000;\n",
       "        }#T_8c070_row5_col6{\n",
       "            background-color:  #4b64d5;\n",
       "            color:  #f1f1f1;\n",
       "        }#T_8c070_row5_col8{\n",
       "            background-color:  #a6c4fe;\n",
       "            color:  #000000;\n",
       "        }#T_8c070_row5_col11{\n",
       "            background-color:  #bad0f8;\n",
       "            color:  #000000;\n",
       "        }#T_8c070_row6_col2,#T_8c070_row11_col10{\n",
       "            background-color:  #a3c2fe;\n",
       "            color:  #000000;\n",
       "        }#T_8c070_row6_col3{\n",
       "            background-color:  #4257c9;\n",
       "            color:  #f1f1f1;\n",
       "        }#T_8c070_row6_col4,#T_8c070_row7_col8{\n",
       "            background-color:  #465ecf;\n",
       "            color:  #f1f1f1;\n",
       "        }#T_8c070_row6_col10{\n",
       "            background-color:  #c7d7f0;\n",
       "            color:  #000000;\n",
       "        }#T_8c070_row7_col1,#T_8c070_row7_col12,#T_8c070_row8_col3{\n",
       "            background-color:  #7699f6;\n",
       "            color:  #000000;\n",
       "        }#T_8c070_row7_col2{\n",
       "            background-color:  #dbdcde;\n",
       "            color:  #000000;\n",
       "        }#T_8c070_row7_col3,#T_8c070_row9_col5{\n",
       "            background-color:  #5470de;\n",
       "            color:  #000000;\n",
       "        }#T_8c070_row7_col4{\n",
       "            background-color:  #6c8ff1;\n",
       "            color:  #000000;\n",
       "        }#T_8c070_row7_col5,#T_8c070_row8_col6,#T_8c070_row11_col6{\n",
       "            background-color:  #4f69d9;\n",
       "            color:  #000000;\n",
       "        }#T_8c070_row7_col10{\n",
       "            background-color:  #f3c8b2;\n",
       "            color:  #000000;\n",
       "        }#T_8c070_row7_col11{\n",
       "            background-color:  #6282ea;\n",
       "            color:  #000000;\n",
       "        }#T_8c070_row7_col13,#T_8c070_row13_col2{\n",
       "            background-color:  #f1ccb8;\n",
       "            color:  #000000;\n",
       "        }#T_8c070_row8_col4{\n",
       "            background-color:  #82a6fb;\n",
       "            color:  #000000;\n",
       "        }#T_8c070_row8_col7{\n",
       "            background-color:  #3e51c5;\n",
       "            color:  #f1f1f1;\n",
       "        }#T_8c070_row8_col9{\n",
       "            background-color:  #e9d5cb;\n",
       "            color:  #000000;\n",
       "        }#T_8c070_row8_col12{\n",
       "            background-color:  #c3d5f4;\n",
       "            color:  #000000;\n",
       "        }#T_8c070_row9_col0{\n",
       "            background-color:  #cbd8ee;\n",
       "            color:  #000000;\n",
       "        }#T_8c070_row9_col1,#T_8c070_row9_col3{\n",
       "            background-color:  #9dbdff;\n",
       "            color:  #000000;\n",
       "        }#T_8c070_row9_col4{\n",
       "            background-color:  #7ea1fa;\n",
       "            color:  #000000;\n",
       "        }#T_8c070_row9_col7{\n",
       "            background-color:  #455cce;\n",
       "            color:  #f1f1f1;\n",
       "        }#T_8c070_row9_col8,#T_8c070_row11_col9{\n",
       "            background-color:  #dedcdb;\n",
       "            color:  #000000;\n",
       "        }#T_8c070_row9_col13{\n",
       "            background-color:  #3c4ec2;\n",
       "            color:  #f1f1f1;\n",
       "        }#T_8c070_row10_col1{\n",
       "            background-color:  #7a9df8;\n",
       "            color:  #000000;\n",
       "        }#T_8c070_row10_col3,#T_8c070_row10_col5{\n",
       "            background-color:  #4055c8;\n",
       "            color:  #f1f1f1;\n",
       "        }#T_8c070_row10_col4{\n",
       "            background-color:  #6e90f2;\n",
       "            color:  #000000;\n",
       "        }#T_8c070_row10_col7{\n",
       "            background-color:  #ebd3c6;\n",
       "            color:  #000000;\n",
       "        }#T_8c070_row10_col8,#T_8c070_row13_col0{\n",
       "            background-color:  #6180e9;\n",
       "            color:  #000000;\n",
       "        }#T_8c070_row10_col11,#T_8c070_row11_col4{\n",
       "            background-color:  #84a7fc;\n",
       "            color:  #000000;\n",
       "        }#T_8c070_row10_col13{\n",
       "            background-color:  #e8d6cc;\n",
       "            color:  #000000;\n",
       "        }#T_8c070_row11_col0{\n",
       "            background-color:  #d8dce2;\n",
       "            color:  #000000;\n",
       "        }#T_8c070_row11_col1{\n",
       "            background-color:  #a2c1ff;\n",
       "            color:  #000000;\n",
       "        }#T_8c070_row11_col2{\n",
       "            background-color:  #6b8df0;\n",
       "            color:  #000000;\n",
       "        }#T_8c070_row11_col3,#T_8c070_row12_col7{\n",
       "            background-color:  #81a4fb;\n",
       "            color:  #000000;\n",
       "        }#T_8c070_row11_col5{\n",
       "            background-color:  #7da0f9;\n",
       "            color:  #000000;\n",
       "        }#T_8c070_row11_col7{\n",
       "            background-color:  #6384eb;\n",
       "            color:  #000000;\n",
       "        }#T_8c070_row11_col8,#T_8c070_row12_col1{\n",
       "            background-color:  #bbd1f8;\n",
       "            color:  #000000;\n",
       "        }#T_8c070_row12_col5{\n",
       "            background-color:  #4961d2;\n",
       "            color:  #f1f1f1;\n",
       "        }#T_8c070_row12_col8{\n",
       "            background-color:  #cedaeb;\n",
       "            color:  #000000;\n",
       "        }#T_8c070_row12_col10{\n",
       "            background-color:  #9ebeff;\n",
       "            color:  #000000;\n",
       "        }#T_8c070_row12_col11{\n",
       "            background-color:  #bcd2f7;\n",
       "            color:  #000000;\n",
       "        }#T_8c070_row13_col4{\n",
       "            background-color:  #5875e1;\n",
       "            color:  #000000;\n",
       "        }#T_8c070_row13_col5{\n",
       "            background-color:  #4a63d3;\n",
       "            color:  #f1f1f1;\n",
       "        }#T_8c070_row13_col7{\n",
       "            background-color:  #f0cdbb;\n",
       "            color:  #000000;\n",
       "        }#T_8c070_row13_col10{\n",
       "            background-color:  #efcebd;\n",
       "            color:  #000000;\n",
       "        }</style><table id=\"T_8c070_\" ><thead>    <tr>        <th class=\"blank level0\" ></th>        <th class=\"col_heading level0 col0\" >age</th>        <th class=\"col_heading level0 col1\" >sex</th>        <th class=\"col_heading level0 col2\" >cp</th>        <th class=\"col_heading level0 col3\" >trtbps</th>        <th class=\"col_heading level0 col4\" >chol</th>        <th class=\"col_heading level0 col5\" >fbs</th>        <th class=\"col_heading level0 col6\" >restecg</th>        <th class=\"col_heading level0 col7\" >thalachh</th>        <th class=\"col_heading level0 col8\" >exng</th>        <th class=\"col_heading level0 col9\" >oldpeak</th>        <th class=\"col_heading level0 col10\" >slp</th>        <th class=\"col_heading level0 col11\" >caa</th>        <th class=\"col_heading level0 col12\" >thall</th>        <th class=\"col_heading level0 col13\" >output</th>    </tr></thead><tbody>\n",
       "                <tr>\n",
       "                        <th id=\"T_8c070_level0_row0\" class=\"row_heading level0 row0\" >age</th>\n",
       "                        <td id=\"T_8c070_row0_col0\" class=\"data row0 col0\" >1.000000</td>\n",
       "                        <td id=\"T_8c070_row0_col1\" class=\"data row0 col1\" >-0.098447</td>\n",
       "                        <td id=\"T_8c070_row0_col2\" class=\"data row0 col2\" >-0.068653</td>\n",
       "                        <td id=\"T_8c070_row0_col3\" class=\"data row0 col3\" >0.279351</td>\n",
       "                        <td id=\"T_8c070_row0_col4\" class=\"data row0 col4\" >0.213678</td>\n",
       "                        <td id=\"T_8c070_row0_col5\" class=\"data row0 col5\" >0.121308</td>\n",
       "                        <td id=\"T_8c070_row0_col6\" class=\"data row0 col6\" >-0.116211</td>\n",
       "                        <td id=\"T_8c070_row0_col7\" class=\"data row0 col7\" >-0.398522</td>\n",
       "                        <td id=\"T_8c070_row0_col8\" class=\"data row0 col8\" >0.096801</td>\n",
       "                        <td id=\"T_8c070_row0_col9\" class=\"data row0 col9\" >0.210013</td>\n",
       "                        <td id=\"T_8c070_row0_col10\" class=\"data row0 col10\" >-0.168814</td>\n",
       "                        <td id=\"T_8c070_row0_col11\" class=\"data row0 col11\" >0.276326</td>\n",
       "                        <td id=\"T_8c070_row0_col12\" class=\"data row0 col12\" >0.068001</td>\n",
       "                        <td id=\"T_8c070_row0_col13\" class=\"data row0 col13\" >-0.225439</td>\n",
       "            </tr>\n",
       "            <tr>\n",
       "                        <th id=\"T_8c070_level0_row1\" class=\"row_heading level0 row1\" >sex</th>\n",
       "                        <td id=\"T_8c070_row1_col0\" class=\"data row1 col0\" >-0.098447</td>\n",
       "                        <td id=\"T_8c070_row1_col1\" class=\"data row1 col1\" >1.000000</td>\n",
       "                        <td id=\"T_8c070_row1_col2\" class=\"data row1 col2\" >-0.049353</td>\n",
       "                        <td id=\"T_8c070_row1_col3\" class=\"data row1 col3\" >-0.056769</td>\n",
       "                        <td id=\"T_8c070_row1_col4\" class=\"data row1 col4\" >-0.197912</td>\n",
       "                        <td id=\"T_8c070_row1_col5\" class=\"data row1 col5\" >0.045032</td>\n",
       "                        <td id=\"T_8c070_row1_col6\" class=\"data row1 col6\" >-0.058196</td>\n",
       "                        <td id=\"T_8c070_row1_col7\" class=\"data row1 col7\" >-0.044020</td>\n",
       "                        <td id=\"T_8c070_row1_col8\" class=\"data row1 col8\" >0.141664</td>\n",
       "                        <td id=\"T_8c070_row1_col9\" class=\"data row1 col9\" >0.096093</td>\n",
       "                        <td id=\"T_8c070_row1_col10\" class=\"data row1 col10\" >-0.030711</td>\n",
       "                        <td id=\"T_8c070_row1_col11\" class=\"data row1 col11\" >0.118261</td>\n",
       "                        <td id=\"T_8c070_row1_col12\" class=\"data row1 col12\" >0.210041</td>\n",
       "                        <td id=\"T_8c070_row1_col13\" class=\"data row1 col13\" >-0.280937</td>\n",
       "            </tr>\n",
       "            <tr>\n",
       "                        <th id=\"T_8c070_level0_row2\" class=\"row_heading level0 row2\" >cp</th>\n",
       "                        <td id=\"T_8c070_row2_col0\" class=\"data row2 col0\" >-0.068653</td>\n",
       "                        <td id=\"T_8c070_row2_col1\" class=\"data row2 col1\" >-0.049353</td>\n",
       "                        <td id=\"T_8c070_row2_col2\" class=\"data row2 col2\" >1.000000</td>\n",
       "                        <td id=\"T_8c070_row2_col3\" class=\"data row2 col3\" >0.047608</td>\n",
       "                        <td id=\"T_8c070_row2_col4\" class=\"data row2 col4\" >-0.076904</td>\n",
       "                        <td id=\"T_8c070_row2_col5\" class=\"data row2 col5\" >0.094444</td>\n",
       "                        <td id=\"T_8c070_row2_col6\" class=\"data row2 col6\" >0.044421</td>\n",
       "                        <td id=\"T_8c070_row2_col7\" class=\"data row2 col7\" >0.295762</td>\n",
       "                        <td id=\"T_8c070_row2_col8\" class=\"data row2 col8\" >-0.394280</td>\n",
       "                        <td id=\"T_8c070_row2_col9\" class=\"data row2 col9\" >-0.149230</td>\n",
       "                        <td id=\"T_8c070_row2_col10\" class=\"data row2 col10\" >0.119717</td>\n",
       "                        <td id=\"T_8c070_row2_col11\" class=\"data row2 col11\" >-0.181053</td>\n",
       "                        <td id=\"T_8c070_row2_col12\" class=\"data row2 col12\" >-0.161736</td>\n",
       "                        <td id=\"T_8c070_row2_col13\" class=\"data row2 col13\" >0.433798</td>\n",
       "            </tr>\n",
       "            <tr>\n",
       "                        <th id=\"T_8c070_level0_row3\" class=\"row_heading level0 row3\" >trtbps</th>\n",
       "                        <td id=\"T_8c070_row3_col0\" class=\"data row3 col0\" >0.279351</td>\n",
       "                        <td id=\"T_8c070_row3_col1\" class=\"data row3 col1\" >-0.056769</td>\n",
       "                        <td id=\"T_8c070_row3_col2\" class=\"data row3 col2\" >0.047608</td>\n",
       "                        <td id=\"T_8c070_row3_col3\" class=\"data row3 col3\" >1.000000</td>\n",
       "                        <td id=\"T_8c070_row3_col4\" class=\"data row3 col4\" >0.123174</td>\n",
       "                        <td id=\"T_8c070_row3_col5\" class=\"data row3 col5\" >0.177531</td>\n",
       "                        <td id=\"T_8c070_row3_col6\" class=\"data row3 col6\" >-0.114103</td>\n",
       "                        <td id=\"T_8c070_row3_col7\" class=\"data row3 col7\" >-0.046698</td>\n",
       "                        <td id=\"T_8c070_row3_col8\" class=\"data row3 col8\" >0.067616</td>\n",
       "                        <td id=\"T_8c070_row3_col9\" class=\"data row3 col9\" >0.193216</td>\n",
       "                        <td id=\"T_8c070_row3_col10\" class=\"data row3 col10\" >-0.121475</td>\n",
       "                        <td id=\"T_8c070_row3_col11\" class=\"data row3 col11\" >0.101389</td>\n",
       "                        <td id=\"T_8c070_row3_col12\" class=\"data row3 col12\" >0.062210</td>\n",
       "                        <td id=\"T_8c070_row3_col13\" class=\"data row3 col13\" >-0.144931</td>\n",
       "            </tr>\n",
       "            <tr>\n",
       "                        <th id=\"T_8c070_level0_row4\" class=\"row_heading level0 row4\" >chol</th>\n",
       "                        <td id=\"T_8c070_row4_col0\" class=\"data row4 col0\" >0.213678</td>\n",
       "                        <td id=\"T_8c070_row4_col1\" class=\"data row4 col1\" >-0.197912</td>\n",
       "                        <td id=\"T_8c070_row4_col2\" class=\"data row4 col2\" >-0.076904</td>\n",
       "                        <td id=\"T_8c070_row4_col3\" class=\"data row4 col3\" >0.123174</td>\n",
       "                        <td id=\"T_8c070_row4_col4\" class=\"data row4 col4\" >1.000000</td>\n",
       "                        <td id=\"T_8c070_row4_col5\" class=\"data row4 col5\" >0.013294</td>\n",
       "                        <td id=\"T_8c070_row4_col6\" class=\"data row4 col6\" >-0.151040</td>\n",
       "                        <td id=\"T_8c070_row4_col7\" class=\"data row4 col7\" >-0.009940</td>\n",
       "                        <td id=\"T_8c070_row4_col8\" class=\"data row4 col8\" >0.067023</td>\n",
       "                        <td id=\"T_8c070_row4_col9\" class=\"data row4 col9\" >0.053952</td>\n",
       "                        <td id=\"T_8c070_row4_col10\" class=\"data row4 col10\" >-0.004038</td>\n",
       "                        <td id=\"T_8c070_row4_col11\" class=\"data row4 col11\" >0.070511</td>\n",
       "                        <td id=\"T_8c070_row4_col12\" class=\"data row4 col12\" >0.098803</td>\n",
       "                        <td id=\"T_8c070_row4_col13\" class=\"data row4 col13\" >-0.085239</td>\n",
       "            </tr>\n",
       "            <tr>\n",
       "                        <th id=\"T_8c070_level0_row5\" class=\"row_heading level0 row5\" >fbs</th>\n",
       "                        <td id=\"T_8c070_row5_col0\" class=\"data row5 col0\" >0.121308</td>\n",
       "                        <td id=\"T_8c070_row5_col1\" class=\"data row5 col1\" >0.045032</td>\n",
       "                        <td id=\"T_8c070_row5_col2\" class=\"data row5 col2\" >0.094444</td>\n",
       "                        <td id=\"T_8c070_row5_col3\" class=\"data row5 col3\" >0.177531</td>\n",
       "                        <td id=\"T_8c070_row5_col4\" class=\"data row5 col4\" >0.013294</td>\n",
       "                        <td id=\"T_8c070_row5_col5\" class=\"data row5 col5\" >1.000000</td>\n",
       "                        <td id=\"T_8c070_row5_col6\" class=\"data row5 col6\" >-0.084189</td>\n",
       "                        <td id=\"T_8c070_row5_col7\" class=\"data row5 col7\" >-0.008567</td>\n",
       "                        <td id=\"T_8c070_row5_col8\" class=\"data row5 col8\" >0.025665</td>\n",
       "                        <td id=\"T_8c070_row5_col9\" class=\"data row5 col9\" >0.005747</td>\n",
       "                        <td id=\"T_8c070_row5_col10\" class=\"data row5 col10\" >-0.059894</td>\n",
       "                        <td id=\"T_8c070_row5_col11\" class=\"data row5 col11\" >0.137979</td>\n",
       "                        <td id=\"T_8c070_row5_col12\" class=\"data row5 col12\" >-0.032019</td>\n",
       "                        <td id=\"T_8c070_row5_col13\" class=\"data row5 col13\" >-0.028046</td>\n",
       "            </tr>\n",
       "            <tr>\n",
       "                        <th id=\"T_8c070_level0_row6\" class=\"row_heading level0 row6\" >restecg</th>\n",
       "                        <td id=\"T_8c070_row6_col0\" class=\"data row6 col0\" >-0.116211</td>\n",
       "                        <td id=\"T_8c070_row6_col1\" class=\"data row6 col1\" >-0.058196</td>\n",
       "                        <td id=\"T_8c070_row6_col2\" class=\"data row6 col2\" >0.044421</td>\n",
       "                        <td id=\"T_8c070_row6_col3\" class=\"data row6 col3\" >-0.114103</td>\n",
       "                        <td id=\"T_8c070_row6_col4\" class=\"data row6 col4\" >-0.151040</td>\n",
       "                        <td id=\"T_8c070_row6_col5\" class=\"data row6 col5\" >-0.084189</td>\n",
       "                        <td id=\"T_8c070_row6_col6\" class=\"data row6 col6\" >1.000000</td>\n",
       "                        <td id=\"T_8c070_row6_col7\" class=\"data row6 col7\" >0.044123</td>\n",
       "                        <td id=\"T_8c070_row6_col8\" class=\"data row6 col8\" >-0.070733</td>\n",
       "                        <td id=\"T_8c070_row6_col9\" class=\"data row6 col9\" >-0.058770</td>\n",
       "                        <td id=\"T_8c070_row6_col10\" class=\"data row6 col10\" >0.093045</td>\n",
       "                        <td id=\"T_8c070_row6_col11\" class=\"data row6 col11\" >-0.072042</td>\n",
       "                        <td id=\"T_8c070_row6_col12\" class=\"data row6 col12\" >-0.011981</td>\n",
       "                        <td id=\"T_8c070_row6_col13\" class=\"data row6 col13\" >0.137230</td>\n",
       "            </tr>\n",
       "            <tr>\n",
       "                        <th id=\"T_8c070_level0_row7\" class=\"row_heading level0 row7\" >thalachh</th>\n",
       "                        <td id=\"T_8c070_row7_col0\" class=\"data row7 col0\" >-0.398522</td>\n",
       "                        <td id=\"T_8c070_row7_col1\" class=\"data row7 col1\" >-0.044020</td>\n",
       "                        <td id=\"T_8c070_row7_col2\" class=\"data row7 col2\" >0.295762</td>\n",
       "                        <td id=\"T_8c070_row7_col3\" class=\"data row7 col3\" >-0.046698</td>\n",
       "                        <td id=\"T_8c070_row7_col4\" class=\"data row7 col4\" >-0.009940</td>\n",
       "                        <td id=\"T_8c070_row7_col5\" class=\"data row7 col5\" >-0.008567</td>\n",
       "                        <td id=\"T_8c070_row7_col6\" class=\"data row7 col6\" >0.044123</td>\n",
       "                        <td id=\"T_8c070_row7_col7\" class=\"data row7 col7\" >1.000000</td>\n",
       "                        <td id=\"T_8c070_row7_col8\" class=\"data row7 col8\" >-0.378812</td>\n",
       "                        <td id=\"T_8c070_row7_col9\" class=\"data row7 col9\" >-0.344187</td>\n",
       "                        <td id=\"T_8c070_row7_col10\" class=\"data row7 col10\" >0.386784</td>\n",
       "                        <td id=\"T_8c070_row7_col11\" class=\"data row7 col11\" >-0.213177</td>\n",
       "                        <td id=\"T_8c070_row7_col12\" class=\"data row7 col12\" >-0.096439</td>\n",
       "                        <td id=\"T_8c070_row7_col13\" class=\"data row7 col13\" >0.421741</td>\n",
       "            </tr>\n",
       "            <tr>\n",
       "                        <th id=\"T_8c070_level0_row8\" class=\"row_heading level0 row8\" >exng</th>\n",
       "                        <td id=\"T_8c070_row8_col0\" class=\"data row8 col0\" >0.096801</td>\n",
       "                        <td id=\"T_8c070_row8_col1\" class=\"data row8 col1\" >0.141664</td>\n",
       "                        <td id=\"T_8c070_row8_col2\" class=\"data row8 col2\" >-0.394280</td>\n",
       "                        <td id=\"T_8c070_row8_col3\" class=\"data row8 col3\" >0.067616</td>\n",
       "                        <td id=\"T_8c070_row8_col4\" class=\"data row8 col4\" >0.067023</td>\n",
       "                        <td id=\"T_8c070_row8_col5\" class=\"data row8 col5\" >0.025665</td>\n",
       "                        <td id=\"T_8c070_row8_col6\" class=\"data row8 col6\" >-0.070733</td>\n",
       "                        <td id=\"T_8c070_row8_col7\" class=\"data row8 col7\" >-0.378812</td>\n",
       "                        <td id=\"T_8c070_row8_col8\" class=\"data row8 col8\" >1.000000</td>\n",
       "                        <td id=\"T_8c070_row8_col9\" class=\"data row8 col9\" >0.288223</td>\n",
       "                        <td id=\"T_8c070_row8_col10\" class=\"data row8 col10\" >-0.257748</td>\n",
       "                        <td id=\"T_8c070_row8_col11\" class=\"data row8 col11\" >0.115739</td>\n",
       "                        <td id=\"T_8c070_row8_col12\" class=\"data row8 col12\" >0.206754</td>\n",
       "                        <td id=\"T_8c070_row8_col13\" class=\"data row8 col13\" >-0.436757</td>\n",
       "            </tr>\n",
       "            <tr>\n",
       "                        <th id=\"T_8c070_level0_row9\" class=\"row_heading level0 row9\" >oldpeak</th>\n",
       "                        <td id=\"T_8c070_row9_col0\" class=\"data row9 col0\" >0.210013</td>\n",
       "                        <td id=\"T_8c070_row9_col1\" class=\"data row9 col1\" >0.096093</td>\n",
       "                        <td id=\"T_8c070_row9_col2\" class=\"data row9 col2\" >-0.149230</td>\n",
       "                        <td id=\"T_8c070_row9_col3\" class=\"data row9 col3\" >0.193216</td>\n",
       "                        <td id=\"T_8c070_row9_col4\" class=\"data row9 col4\" >0.053952</td>\n",
       "                        <td id=\"T_8c070_row9_col5\" class=\"data row9 col5\" >0.005747</td>\n",
       "                        <td id=\"T_8c070_row9_col6\" class=\"data row9 col6\" >-0.058770</td>\n",
       "                        <td id=\"T_8c070_row9_col7\" class=\"data row9 col7\" >-0.344187</td>\n",
       "                        <td id=\"T_8c070_row9_col8\" class=\"data row9 col8\" >0.288223</td>\n",
       "                        <td id=\"T_8c070_row9_col9\" class=\"data row9 col9\" >1.000000</td>\n",
       "                        <td id=\"T_8c070_row9_col10\" class=\"data row9 col10\" >-0.577537</td>\n",
       "                        <td id=\"T_8c070_row9_col11\" class=\"data row9 col11\" >0.222682</td>\n",
       "                        <td id=\"T_8c070_row9_col12\" class=\"data row9 col12\" >0.210244</td>\n",
       "                        <td id=\"T_8c070_row9_col13\" class=\"data row9 col13\" >-0.430696</td>\n",
       "            </tr>\n",
       "            <tr>\n",
       "                        <th id=\"T_8c070_level0_row10\" class=\"row_heading level0 row10\" >slp</th>\n",
       "                        <td id=\"T_8c070_row10_col0\" class=\"data row10 col0\" >-0.168814</td>\n",
       "                        <td id=\"T_8c070_row10_col1\" class=\"data row10 col1\" >-0.030711</td>\n",
       "                        <td id=\"T_8c070_row10_col2\" class=\"data row10 col2\" >0.119717</td>\n",
       "                        <td id=\"T_8c070_row10_col3\" class=\"data row10 col3\" >-0.121475</td>\n",
       "                        <td id=\"T_8c070_row10_col4\" class=\"data row10 col4\" >-0.004038</td>\n",
       "                        <td id=\"T_8c070_row10_col5\" class=\"data row10 col5\" >-0.059894</td>\n",
       "                        <td id=\"T_8c070_row10_col6\" class=\"data row10 col6\" >0.093045</td>\n",
       "                        <td id=\"T_8c070_row10_col7\" class=\"data row10 col7\" >0.386784</td>\n",
       "                        <td id=\"T_8c070_row10_col8\" class=\"data row10 col8\" >-0.257748</td>\n",
       "                        <td id=\"T_8c070_row10_col9\" class=\"data row10 col9\" >-0.577537</td>\n",
       "                        <td id=\"T_8c070_row10_col10\" class=\"data row10 col10\" >1.000000</td>\n",
       "                        <td id=\"T_8c070_row10_col11\" class=\"data row10 col11\" >-0.080155</td>\n",
       "                        <td id=\"T_8c070_row10_col12\" class=\"data row10 col12\" >-0.104764</td>\n",
       "                        <td id=\"T_8c070_row10_col13\" class=\"data row10 col13\" >0.345877</td>\n",
       "            </tr>\n",
       "            <tr>\n",
       "                        <th id=\"T_8c070_level0_row11\" class=\"row_heading level0 row11\" >caa</th>\n",
       "                        <td id=\"T_8c070_row11_col0\" class=\"data row11 col0\" >0.276326</td>\n",
       "                        <td id=\"T_8c070_row11_col1\" class=\"data row11 col1\" >0.118261</td>\n",
       "                        <td id=\"T_8c070_row11_col2\" class=\"data row11 col2\" >-0.181053</td>\n",
       "                        <td id=\"T_8c070_row11_col3\" class=\"data row11 col3\" >0.101389</td>\n",
       "                        <td id=\"T_8c070_row11_col4\" class=\"data row11 col4\" >0.070511</td>\n",
       "                        <td id=\"T_8c070_row11_col5\" class=\"data row11 col5\" >0.137979</td>\n",
       "                        <td id=\"T_8c070_row11_col6\" class=\"data row11 col6\" >-0.072042</td>\n",
       "                        <td id=\"T_8c070_row11_col7\" class=\"data row11 col7\" >-0.213177</td>\n",
       "                        <td id=\"T_8c070_row11_col8\" class=\"data row11 col8\" >0.115739</td>\n",
       "                        <td id=\"T_8c070_row11_col9\" class=\"data row11 col9\" >0.222682</td>\n",
       "                        <td id=\"T_8c070_row11_col10\" class=\"data row11 col10\" >-0.080155</td>\n",
       "                        <td id=\"T_8c070_row11_col11\" class=\"data row11 col11\" >1.000000</td>\n",
       "                        <td id=\"T_8c070_row11_col12\" class=\"data row11 col12\" >0.151832</td>\n",
       "                        <td id=\"T_8c070_row11_col13\" class=\"data row11 col13\" >-0.391724</td>\n",
       "            </tr>\n",
       "            <tr>\n",
       "                        <th id=\"T_8c070_level0_row12\" class=\"row_heading level0 row12\" >thall</th>\n",
       "                        <td id=\"T_8c070_row12_col0\" class=\"data row12 col0\" >0.068001</td>\n",
       "                        <td id=\"T_8c070_row12_col1\" class=\"data row12 col1\" >0.210041</td>\n",
       "                        <td id=\"T_8c070_row12_col2\" class=\"data row12 col2\" >-0.161736</td>\n",
       "                        <td id=\"T_8c070_row12_col3\" class=\"data row12 col3\" >0.062210</td>\n",
       "                        <td id=\"T_8c070_row12_col4\" class=\"data row12 col4\" >0.098803</td>\n",
       "                        <td id=\"T_8c070_row12_col5\" class=\"data row12 col5\" >-0.032019</td>\n",
       "                        <td id=\"T_8c070_row12_col6\" class=\"data row12 col6\" >-0.011981</td>\n",
       "                        <td id=\"T_8c070_row12_col7\" class=\"data row12 col7\" >-0.096439</td>\n",
       "                        <td id=\"T_8c070_row12_col8\" class=\"data row12 col8\" >0.206754</td>\n",
       "                        <td id=\"T_8c070_row12_col9\" class=\"data row12 col9\" >0.210244</td>\n",
       "                        <td id=\"T_8c070_row12_col10\" class=\"data row12 col10\" >-0.104764</td>\n",
       "                        <td id=\"T_8c070_row12_col11\" class=\"data row12 col11\" >0.151832</td>\n",
       "                        <td id=\"T_8c070_row12_col12\" class=\"data row12 col12\" >1.000000</td>\n",
       "                        <td id=\"T_8c070_row12_col13\" class=\"data row12 col13\" >-0.344029</td>\n",
       "            </tr>\n",
       "            <tr>\n",
       "                        <th id=\"T_8c070_level0_row13\" class=\"row_heading level0 row13\" >output</th>\n",
       "                        <td id=\"T_8c070_row13_col0\" class=\"data row13 col0\" >-0.225439</td>\n",
       "                        <td id=\"T_8c070_row13_col1\" class=\"data row13 col1\" >-0.280937</td>\n",
       "                        <td id=\"T_8c070_row13_col2\" class=\"data row13 col2\" >0.433798</td>\n",
       "                        <td id=\"T_8c070_row13_col3\" class=\"data row13 col3\" >-0.144931</td>\n",
       "                        <td id=\"T_8c070_row13_col4\" class=\"data row13 col4\" >-0.085239</td>\n",
       "                        <td id=\"T_8c070_row13_col5\" class=\"data row13 col5\" >-0.028046</td>\n",
       "                        <td id=\"T_8c070_row13_col6\" class=\"data row13 col6\" >0.137230</td>\n",
       "                        <td id=\"T_8c070_row13_col7\" class=\"data row13 col7\" >0.421741</td>\n",
       "                        <td id=\"T_8c070_row13_col8\" class=\"data row13 col8\" >-0.436757</td>\n",
       "                        <td id=\"T_8c070_row13_col9\" class=\"data row13 col9\" >-0.430696</td>\n",
       "                        <td id=\"T_8c070_row13_col10\" class=\"data row13 col10\" >0.345877</td>\n",
       "                        <td id=\"T_8c070_row13_col11\" class=\"data row13 col11\" >-0.391724</td>\n",
       "                        <td id=\"T_8c070_row13_col12\" class=\"data row13 col12\" >-0.344029</td>\n",
       "                        <td id=\"T_8c070_row13_col13\" class=\"data row13 col13\" >1.000000</td>\n",
       "            </tr>\n",
       "    </tbody></table>"
      ],
      "text/plain": [
       "<pandas.io.formats.style.Styler at 0x2a00fef2cc8>"
      ]
     },
     "execution_count": 127,
     "metadata": {},
     "output_type": "execute_result"
    }
   ],
   "source": [
    "### Correlation\n",
    "corr = df.corr()\n",
    "corr.style.background_gradient(cmap='coolwarm')"
   ]
  },
  {
   "cell_type": "code",
   "execution_count": 169,
   "metadata": {},
   "outputs": [
    {
     "data": {
      "image/png": "[encoded data removed]",
      "text/plain": [
       "<Figure size 1440x1800 with 9 Axes>"
      ]
     },
     "metadata": {},
     "output_type": "display_data"
    }
   ],
   "source": [
    "plt.figure(figsize=(20,25), facecolor='white')\n",
    "plotnumber = 1\n",
    "\n",
    "for column in df:\n",
    "    if plotnumber<=9 :\n",
    "        ax = plt.subplot(3,3,plotnumber)\n",
    "        sns.stripplot(df['output'],df[column])\n",
    "    plotnumber+=1\n",
    "plt.tight_layout()"
   ]
  },
  {
   "cell_type": "code",
   "execution_count": 213,
   "metadata": {},
   "outputs": [],
   "source": [
    "from sklearn.model_selection import train_test_split, cross_val_score, cross_val_predict\n",
    "from sklearn.preprocessing import scale\n",
    "from sklearn import model_selection\n",
    "from sklearn.svm import SVC\n",
    "from sklearn.linear_model import LogisticRegression\n",
    "from sklearn.ensemble import RandomForestClassifier\n",
    "from sklearn.tree import DecisionTreeClassifier\n",
    "from sklearn.metrics import accuracy_score, classification_report, roc_curve\n",
    "from sklearn.model_selection import cross_val_score\n",
    "from sklearn.model_selection import GridSearchCV\n",
    "from sklearn.preprocessing import StandardScaler \n",
    "from sklearn.metrics import accuracy_score, confusion_matrix, roc_curve, roc_auc_score\n"
   ]
  },
  {
   "cell_type": "code",
   "execution_count": 172,
   "metadata": {},
   "outputs": [],
   "source": [
    "cat_col = ['sex','exng','caa','cp','fbs','restecg','slp','thall']\n",
    "con_col = [\"age\",\"trtbps\",\"chol\",\"thalachh\",\"oldpeak\"]"
   ]
  },
  {
   "cell_type": "code",
   "execution_count": 173,
   "metadata": {},
   "outputs": [],
   "source": [
    "df1 =df"
   ]
  },
  {
   "cell_type": "code",
   "execution_count": 174,
   "metadata": {},
   "outputs": [],
   "source": [
    "df1 = pd.get_dummies(df1,columns=cat_col,drop_first=True)"
   ]
  },
  {
   "cell_type": "code",
   "execution_count": 175,
   "metadata": {},
   "outputs": [
    {
     "data": {
      "text/html": [
       "<div>\n",
       "<style scoped>\n",
       "    .dataframe tbody tr th:only-of-type {\n",
       "        vertical-align: middle;\n",
       "    }\n",
       "\n",
       "    .dataframe tbody tr th {\n",
       "        vertical-align: top;\n",
       "    }\n",
       "\n",
       "    .dataframe thead th {\n",
       "        text-align: right;\n",
       "    }\n",
       "</style>\n",
       "<table border=\"1\" class=\"dataframe\">\n",
       "  <thead>\n",
       "    <tr style=\"text-align: right;\">\n",
       "      <th></th>\n",
       "      <th>age</th>\n",
       "      <th>trtbps</th>\n",
       "      <th>chol</th>\n",
       "      <th>thalachh</th>\n",
       "      <th>oldpeak</th>\n",
       "      <th>output</th>\n",
       "      <th>sex_1</th>\n",
       "      <th>exng_1</th>\n",
       "      <th>caa_1</th>\n",
       "      <th>caa_2</th>\n",
       "      <th>...</th>\n",
       "      <th>cp_2</th>\n",
       "      <th>cp_3</th>\n",
       "      <th>fbs_1</th>\n",
       "      <th>restecg_1</th>\n",
       "      <th>restecg_2</th>\n",
       "      <th>slp_1</th>\n",
       "      <th>slp_2</th>\n",
       "      <th>thall_1</th>\n",
       "      <th>thall_2</th>\n",
       "      <th>thall_3</th>\n",
       "    </tr>\n",
       "  </thead>\n",
       "  <tbody>\n",
       "    <tr>\n",
       "      <th>0</th>\n",
       "      <td>63</td>\n",
       "      <td>145</td>\n",
       "      <td>233</td>\n",
       "      <td>150</td>\n",
       "      <td>2.3</td>\n",
       "      <td>1</td>\n",
       "      <td>1</td>\n",
       "      <td>0</td>\n",
       "      <td>0</td>\n",
       "      <td>0</td>\n",
       "      <td>...</td>\n",
       "      <td>0</td>\n",
       "      <td>1</td>\n",
       "      <td>1</td>\n",
       "      <td>0</td>\n",
       "      <td>0</td>\n",
       "      <td>0</td>\n",
       "      <td>0</td>\n",
       "      <td>1</td>\n",
       "      <td>0</td>\n",
       "      <td>0</td>\n",
       "    </tr>\n",
       "    <tr>\n",
       "      <th>1</th>\n",
       "      <td>37</td>\n",
       "      <td>130</td>\n",
       "      <td>250</td>\n",
       "      <td>187</td>\n",
       "      <td>3.5</td>\n",
       "      <td>1</td>\n",
       "      <td>1</td>\n",
       "      <td>0</td>\n",
       "      <td>0</td>\n",
       "      <td>0</td>\n",
       "      <td>...</td>\n",
       "      <td>1</td>\n",
       "      <td>0</td>\n",
       "      <td>0</td>\n",
       "      <td>1</td>\n",
       "      <td>0</td>\n",
       "      <td>0</td>\n",
       "      <td>0</td>\n",
       "      <td>0</td>\n",
       "      <td>1</td>\n",
       "      <td>0</td>\n",
       "    </tr>\n",
       "    <tr>\n",
       "      <th>2</th>\n",
       "      <td>41</td>\n",
       "      <td>130</td>\n",
       "      <td>204</td>\n",
       "      <td>172</td>\n",
       "      <td>1.4</td>\n",
       "      <td>1</td>\n",
       "      <td>0</td>\n",
       "      <td>0</td>\n",
       "      <td>0</td>\n",
       "      <td>0</td>\n",
       "      <td>...</td>\n",
       "      <td>0</td>\n",
       "      <td>0</td>\n",
       "      <td>0</td>\n",
       "      <td>0</td>\n",
       "      <td>0</td>\n",
       "      <td>0</td>\n",
       "      <td>1</td>\n",
       "      <td>0</td>\n",
       "      <td>1</td>\n",
       "      <td>0</td>\n",
       "    </tr>\n",
       "    <tr>\n",
       "      <th>3</th>\n",
       "      <td>56</td>\n",
       "      <td>120</td>\n",
       "      <td>236</td>\n",
       "      <td>178</td>\n",
       "      <td>0.8</td>\n",
       "      <td>1</td>\n",
       "      <td>1</td>\n",
       "      <td>0</td>\n",
       "      <td>0</td>\n",
       "      <td>0</td>\n",
       "      <td>...</td>\n",
       "      <td>0</td>\n",
       "      <td>0</td>\n",
       "      <td>0</td>\n",
       "      <td>1</td>\n",
       "      <td>0</td>\n",
       "      <td>0</td>\n",
       "      <td>1</td>\n",
       "      <td>0</td>\n",
       "      <td>1</td>\n",
       "      <td>0</td>\n",
       "    </tr>\n",
       "    <tr>\n",
       "      <th>4</th>\n",
       "      <td>57</td>\n",
       "      <td>120</td>\n",
       "      <td>354</td>\n",
       "      <td>163</td>\n",
       "      <td>0.6</td>\n",
       "      <td>1</td>\n",
       "      <td>0</td>\n",
       "      <td>1</td>\n",
       "      <td>0</td>\n",
       "      <td>0</td>\n",
       "      <td>...</td>\n",
       "      <td>0</td>\n",
       "      <td>0</td>\n",
       "      <td>0</td>\n",
       "      <td>1</td>\n",
       "      <td>0</td>\n",
       "      <td>0</td>\n",
       "      <td>1</td>\n",
       "      <td>0</td>\n",
       "      <td>1</td>\n",
       "      <td>0</td>\n",
       "    </tr>\n",
       "  </tbody>\n",
       "</table>\n",
       "<p>5 rows × 23 columns</p>\n",
       "</div>"
      ],
      "text/plain": [
       "   age  trtbps  chol  thalachh  oldpeak  output  sex_1  exng_1  caa_1  caa_2  \\\n",
       "0   63     145   233       150      2.3       1      1       0      0      0   \n",
       "1   37     130   250       187      3.5       1      1       0      0      0   \n",
       "2   41     130   204       172      1.4       1      0       0      0      0   \n",
       "3   56     120   236       178      0.8       1      1       0      0      0   \n",
       "4   57     120   354       163      0.6       1      0       1      0      0   \n",
       "\n",
       "   ...  cp_2  cp_3  fbs_1  restecg_1  restecg_2  slp_1  slp_2  thall_1  \\\n",
       "0  ...     0     1      1          0          0      0      0        1   \n",
       "1  ...     1     0      0          1          0      0      0        0   \n",
       "2  ...     0     0      0          0          0      0      1        0   \n",
       "3  ...     0     0      0          1          0      0      1        0   \n",
       "4  ...     0     0      0          1          0      0      1        0   \n",
       "\n",
       "   thall_2  thall_3  \n",
       "0        0        0  \n",
       "1        1        0  \n",
       "2        1        0  \n",
       "3        1        0  \n",
       "4        1        0  \n",
       "\n",
       "[5 rows x 23 columns]"
      ]
     },
     "execution_count": 175,
     "metadata": {},
     "output_type": "execute_result"
    }
   ],
   "source": [
    "df1.head()"
   ]
  },
  {
   "cell_type": "code",
   "execution_count": 176,
   "metadata": {},
   "outputs": [],
   "source": [
    "X = df1.drop(['output'],axis=1)\n",
    "y = df1['output']"
   ]
  },
  {
   "cell_type": "code",
   "execution_count": 178,
   "metadata": {},
   "outputs": [
    {
     "data": {
      "text/plain": [
       "0    1\n",
       "1    1\n",
       "2    1\n",
       "3    1\n",
       "4    1\n",
       "Name: output, dtype: int64"
      ]
     },
     "execution_count": 178,
     "metadata": {},
     "output_type": "execute_result"
    }
   ],
   "source": [
    "y.head()"
   ]
  },
  {
   "cell_type": "code",
   "execution_count": 182,
   "metadata": {},
   "outputs": [],
   "source": [
    "## Scaling\n",
    "scaler = StandardScaler()\n",
    "### Lets scale the continous variable column\n",
    "X[con_col] = scaler.fit_transform(X[con_col])"
   ]
  },
  {
   "cell_type": "code",
   "execution_count": 183,
   "metadata": {},
   "outputs": [
    {
     "data": {
      "text/html": [
       "<div>\n",
       "<style scoped>\n",
       "    .dataframe tbody tr th:only-of-type {\n",
       "        vertical-align: middle;\n",
       "    }\n",
       "\n",
       "    .dataframe tbody tr th {\n",
       "        vertical-align: top;\n",
       "    }\n",
       "\n",
       "    .dataframe thead th {\n",
       "        text-align: right;\n",
       "    }\n",
       "</style>\n",
       "<table border=\"1\" class=\"dataframe\">\n",
       "  <thead>\n",
       "    <tr style=\"text-align: right;\">\n",
       "      <th></th>\n",
       "      <th>age</th>\n",
       "      <th>trtbps</th>\n",
       "      <th>chol</th>\n",
       "      <th>thalachh</th>\n",
       "      <th>oldpeak</th>\n",
       "      <th>sex_1</th>\n",
       "      <th>exng_1</th>\n",
       "      <th>caa_1</th>\n",
       "      <th>caa_2</th>\n",
       "      <th>caa_3</th>\n",
       "      <th>...</th>\n",
       "      <th>cp_2</th>\n",
       "      <th>cp_3</th>\n",
       "      <th>fbs_1</th>\n",
       "      <th>restecg_1</th>\n",
       "      <th>restecg_2</th>\n",
       "      <th>slp_1</th>\n",
       "      <th>slp_2</th>\n",
       "      <th>thall_1</th>\n",
       "      <th>thall_2</th>\n",
       "      <th>thall_3</th>\n",
       "    </tr>\n",
       "  </thead>\n",
       "  <tbody>\n",
       "    <tr>\n",
       "      <th>0</th>\n",
       "      <td>0.952197</td>\n",
       "      <td>0.763956</td>\n",
       "      <td>-0.256334</td>\n",
       "      <td>0.015443</td>\n",
       "      <td>1.087338</td>\n",
       "      <td>1</td>\n",
       "      <td>0</td>\n",
       "      <td>0</td>\n",
       "      <td>0</td>\n",
       "      <td>0</td>\n",
       "      <td>...</td>\n",
       "      <td>0</td>\n",
       "      <td>1</td>\n",
       "      <td>1</td>\n",
       "      <td>0</td>\n",
       "      <td>0</td>\n",
       "      <td>0</td>\n",
       "      <td>0</td>\n",
       "      <td>1</td>\n",
       "      <td>0</td>\n",
       "      <td>0</td>\n",
       "    </tr>\n",
       "    <tr>\n",
       "      <th>1</th>\n",
       "      <td>-1.915313</td>\n",
       "      <td>-0.092738</td>\n",
       "      <td>0.072199</td>\n",
       "      <td>1.633471</td>\n",
       "      <td>2.122573</td>\n",
       "      <td>1</td>\n",
       "      <td>0</td>\n",
       "      <td>0</td>\n",
       "      <td>0</td>\n",
       "      <td>0</td>\n",
       "      <td>...</td>\n",
       "      <td>1</td>\n",
       "      <td>0</td>\n",
       "      <td>0</td>\n",
       "      <td>1</td>\n",
       "      <td>0</td>\n",
       "      <td>0</td>\n",
       "      <td>0</td>\n",
       "      <td>0</td>\n",
       "      <td>1</td>\n",
       "      <td>0</td>\n",
       "    </tr>\n",
       "    <tr>\n",
       "      <th>2</th>\n",
       "      <td>-1.474158</td>\n",
       "      <td>-0.092738</td>\n",
       "      <td>-0.816773</td>\n",
       "      <td>0.977514</td>\n",
       "      <td>0.310912</td>\n",
       "      <td>0</td>\n",
       "      <td>0</td>\n",
       "      <td>0</td>\n",
       "      <td>0</td>\n",
       "      <td>0</td>\n",
       "      <td>...</td>\n",
       "      <td>0</td>\n",
       "      <td>0</td>\n",
       "      <td>0</td>\n",
       "      <td>0</td>\n",
       "      <td>0</td>\n",
       "      <td>0</td>\n",
       "      <td>1</td>\n",
       "      <td>0</td>\n",
       "      <td>1</td>\n",
       "      <td>0</td>\n",
       "    </tr>\n",
       "    <tr>\n",
       "      <th>3</th>\n",
       "      <td>0.180175</td>\n",
       "      <td>-0.663867</td>\n",
       "      <td>-0.198357</td>\n",
       "      <td>1.239897</td>\n",
       "      <td>-0.206705</td>\n",
       "      <td>1</td>\n",
       "      <td>0</td>\n",
       "      <td>0</td>\n",
       "      <td>0</td>\n",
       "      <td>0</td>\n",
       "      <td>...</td>\n",
       "      <td>0</td>\n",
       "      <td>0</td>\n",
       "      <td>0</td>\n",
       "      <td>1</td>\n",
       "      <td>0</td>\n",
       "      <td>0</td>\n",
       "      <td>1</td>\n",
       "      <td>0</td>\n",
       "      <td>1</td>\n",
       "      <td>0</td>\n",
       "    </tr>\n",
       "    <tr>\n",
       "      <th>4</th>\n",
       "      <td>0.290464</td>\n",
       "      <td>-0.663867</td>\n",
       "      <td>2.082050</td>\n",
       "      <td>0.583939</td>\n",
       "      <td>-0.379244</td>\n",
       "      <td>0</td>\n",
       "      <td>1</td>\n",
       "      <td>0</td>\n",
       "      <td>0</td>\n",
       "      <td>0</td>\n",
       "      <td>...</td>\n",
       "      <td>0</td>\n",
       "      <td>0</td>\n",
       "      <td>0</td>\n",
       "      <td>1</td>\n",
       "      <td>0</td>\n",
       "      <td>0</td>\n",
       "      <td>1</td>\n",
       "      <td>0</td>\n",
       "      <td>1</td>\n",
       "      <td>0</td>\n",
       "    </tr>\n",
       "  </tbody>\n",
       "</table>\n",
       "<p>5 rows × 22 columns</p>\n",
       "</div>"
      ],
      "text/plain": [
       "        age    trtbps      chol  thalachh   oldpeak  sex_1  exng_1  caa_1  \\\n",
       "0  0.952197  0.763956 -0.256334  0.015443  1.087338      1       0      0   \n",
       "1 -1.915313 -0.092738  0.072199  1.633471  2.122573      1       0      0   \n",
       "2 -1.474158 -0.092738 -0.816773  0.977514  0.310912      0       0      0   \n",
       "3  0.180175 -0.663867 -0.198357  1.239897 -0.206705      1       0      0   \n",
       "4  0.290464 -0.663867  2.082050  0.583939 -0.379244      0       1      0   \n",
       "\n",
       "   caa_2  caa_3  ...  cp_2  cp_3  fbs_1  restecg_1  restecg_2  slp_1  slp_2  \\\n",
       "0      0      0  ...     0     1      1          0          0      0      0   \n",
       "1      0      0  ...     1     0      0          1          0      0      0   \n",
       "2      0      0  ...     0     0      0          0          0      0      1   \n",
       "3      0      0  ...     0     0      0          1          0      0      1   \n",
       "4      0      0  ...     0     0      0          1          0      0      1   \n",
       "\n",
       "   thall_1  thall_2  thall_3  \n",
       "0        1        0        0  \n",
       "1        0        1        0  \n",
       "2        0        1        0  \n",
       "3        0        1        0  \n",
       "4        0        1        0  \n",
       "\n",
       "[5 rows x 22 columns]"
      ]
     },
     "execution_count": 183,
     "metadata": {},
     "output_type": "execute_result"
    }
   ],
   "source": [
    "X.head()"
   ]
  },
  {
   "cell_type": "code",
   "execution_count": 184,
   "metadata": {},
   "outputs": [],
   "source": [
    "X_train,X_test,y_train,y_test = train_test_split(X,y,test_size=0.3,random_state=52)"
   ]
  },
  {
   "cell_type": "code",
   "execution_count": 187,
   "metadata": {},
   "outputs": [
    {
     "data": {
      "text/html": [
       "<div>\n",
       "<style scoped>\n",
       "    .dataframe tbody tr th:only-of-type {\n",
       "        vertical-align: middle;\n",
       "    }\n",
       "\n",
       "    .dataframe tbody tr th {\n",
       "        vertical-align: top;\n",
       "    }\n",
       "\n",
       "    .dataframe thead th {\n",
       "        text-align: right;\n",
       "    }\n",
       "</style>\n",
       "<table border=\"1\" class=\"dataframe\">\n",
       "  <thead>\n",
       "    <tr style=\"text-align: right;\">\n",
       "      <th></th>\n",
       "      <th>age</th>\n",
       "      <th>trtbps</th>\n",
       "      <th>chol</th>\n",
       "      <th>thalachh</th>\n",
       "      <th>oldpeak</th>\n",
       "      <th>sex_1</th>\n",
       "      <th>exng_1</th>\n",
       "      <th>caa_1</th>\n",
       "      <th>caa_2</th>\n",
       "      <th>caa_3</th>\n",
       "      <th>...</th>\n",
       "      <th>cp_2</th>\n",
       "      <th>cp_3</th>\n",
       "      <th>fbs_1</th>\n",
       "      <th>restecg_1</th>\n",
       "      <th>restecg_2</th>\n",
       "      <th>slp_1</th>\n",
       "      <th>slp_2</th>\n",
       "      <th>thall_1</th>\n",
       "      <th>thall_2</th>\n",
       "      <th>thall_3</th>\n",
       "    </tr>\n",
       "  </thead>\n",
       "  <tbody>\n",
       "    <tr>\n",
       "      <th>94</th>\n",
       "      <td>-1.033002</td>\n",
       "      <td>-1.120770</td>\n",
       "      <td>-1.667094</td>\n",
       "      <td>-0.509323</td>\n",
       "      <td>-0.896862</td>\n",
       "      <td>0</td>\n",
       "      <td>0</td>\n",
       "      <td>0</td>\n",
       "      <td>0</td>\n",
       "      <td>0</td>\n",
       "      <td>...</td>\n",
       "      <td>0</td>\n",
       "      <td>0</td>\n",
       "      <td>0</td>\n",
       "      <td>1</td>\n",
       "      <td>0</td>\n",
       "      <td>1</td>\n",
       "      <td>0</td>\n",
       "      <td>0</td>\n",
       "      <td>1</td>\n",
       "      <td>0</td>\n",
       "    </tr>\n",
       "    <tr>\n",
       "      <th>0</th>\n",
       "      <td>0.952197</td>\n",
       "      <td>0.763956</td>\n",
       "      <td>-0.256334</td>\n",
       "      <td>0.015443</td>\n",
       "      <td>1.087338</td>\n",
       "      <td>1</td>\n",
       "      <td>0</td>\n",
       "      <td>0</td>\n",
       "      <td>0</td>\n",
       "      <td>0</td>\n",
       "      <td>...</td>\n",
       "      <td>0</td>\n",
       "      <td>1</td>\n",
       "      <td>1</td>\n",
       "      <td>0</td>\n",
       "      <td>0</td>\n",
       "      <td>0</td>\n",
       "      <td>0</td>\n",
       "      <td>1</td>\n",
       "      <td>0</td>\n",
       "      <td>0</td>\n",
       "    </tr>\n",
       "    <tr>\n",
       "      <th>76</th>\n",
       "      <td>-0.371269</td>\n",
       "      <td>-0.378302</td>\n",
       "      <td>-0.024428</td>\n",
       "      <td>0.715131</td>\n",
       "      <td>1.173608</td>\n",
       "      <td>1</td>\n",
       "      <td>0</td>\n",
       "      <td>0</td>\n",
       "      <td>0</td>\n",
       "      <td>0</td>\n",
       "      <td>...</td>\n",
       "      <td>1</td>\n",
       "      <td>0</td>\n",
       "      <td>1</td>\n",
       "      <td>0</td>\n",
       "      <td>0</td>\n",
       "      <td>1</td>\n",
       "      <td>0</td>\n",
       "      <td>0</td>\n",
       "      <td>1</td>\n",
       "      <td>0</td>\n",
       "    </tr>\n",
       "    <tr>\n",
       "      <th>6</th>\n",
       "      <td>0.180175</td>\n",
       "      <td>0.478391</td>\n",
       "      <td>0.922521</td>\n",
       "      <td>0.146634</td>\n",
       "      <td>0.224643</td>\n",
       "      <td>0</td>\n",
       "      <td>0</td>\n",
       "      <td>0</td>\n",
       "      <td>0</td>\n",
       "      <td>0</td>\n",
       "      <td>...</td>\n",
       "      <td>0</td>\n",
       "      <td>0</td>\n",
       "      <td>0</td>\n",
       "      <td>0</td>\n",
       "      <td>0</td>\n",
       "      <td>1</td>\n",
       "      <td>0</td>\n",
       "      <td>0</td>\n",
       "      <td>1</td>\n",
       "      <td>0</td>\n",
       "    </tr>\n",
       "    <tr>\n",
       "      <th>280</th>\n",
       "      <td>-1.363869</td>\n",
       "      <td>0.249940</td>\n",
       "      <td>1.328356</td>\n",
       "      <td>-1.077820</td>\n",
       "      <td>0.655990</td>\n",
       "      <td>1</td>\n",
       "      <td>1</td>\n",
       "      <td>0</td>\n",
       "      <td>0</td>\n",
       "      <td>0</td>\n",
       "      <td>...</td>\n",
       "      <td>0</td>\n",
       "      <td>0</td>\n",
       "      <td>0</td>\n",
       "      <td>1</td>\n",
       "      <td>0</td>\n",
       "      <td>1</td>\n",
       "      <td>0</td>\n",
       "      <td>1</td>\n",
       "      <td>0</td>\n",
       "      <td>0</td>\n",
       "    </tr>\n",
       "  </tbody>\n",
       "</table>\n",
       "<p>5 rows × 22 columns</p>\n",
       "</div>"
      ],
      "text/plain": [
       "          age    trtbps      chol  thalachh   oldpeak  sex_1  exng_1  caa_1  \\\n",
       "94  -1.033002 -1.120770 -1.667094 -0.509323 -0.896862      0       0      0   \n",
       "0    0.952197  0.763956 -0.256334  0.015443  1.087338      1       0      0   \n",
       "76  -0.371269 -0.378302 -0.024428  0.715131  1.173608      1       0      0   \n",
       "6    0.180175  0.478391  0.922521  0.146634  0.224643      0       0      0   \n",
       "280 -1.363869  0.249940  1.328356 -1.077820  0.655990      1       1      0   \n",
       "\n",
       "     caa_2  caa_3  ...  cp_2  cp_3  fbs_1  restecg_1  restecg_2  slp_1  slp_2  \\\n",
       "94       0      0  ...     0     0      0          1          0      1      0   \n",
       "0        0      0  ...     0     1      1          0          0      0      0   \n",
       "76       0      0  ...     1     0      1          0          0      1      0   \n",
       "6        0      0  ...     0     0      0          0          0      1      0   \n",
       "280      0      0  ...     0     0      0          1          0      1      0   \n",
       "\n",
       "     thall_1  thall_2  thall_3  \n",
       "94         0        1        0  \n",
       "0          1        0        0  \n",
       "76         0        1        0  \n",
       "6          0        1        0  \n",
       "280        1        0        0  \n",
       "\n",
       "[5 rows x 22 columns]"
      ]
     },
     "execution_count": 187,
     "metadata": {},
     "output_type": "execute_result"
    }
   ],
   "source": [
    "X_test.head()"
   ]
  },
  {
   "cell_type": "code",
   "execution_count": 188,
   "metadata": {},
   "outputs": [],
   "source": [
    "###Lets start with using algorithm:Support Vector Machine\n",
    "svm = SVC(kernel='sigmoid',C=1,random_state=42).fit(X_train,y_train)"
   ]
  },
  {
   "cell_type": "code",
   "execution_count": 189,
   "metadata": {},
   "outputs": [
    {
     "data": {
      "text/plain": [
       "SVC(C=1, break_ties=False, cache_size=200, class_weight=None, coef0=0.0,\n",
       "    decision_function_shape='ovr', degree=3, gamma='scale', kernel='sigmoid',\n",
       "    max_iter=-1, probability=False, random_state=42, shrinking=True, tol=0.001,\n",
       "    verbose=False)"
      ]
     },
     "execution_count": 189,
     "metadata": {},
     "output_type": "execute_result"
    }
   ],
   "source": [
    "svm"
   ]
  },
  {
   "cell_type": "code",
   "execution_count": 191,
   "metadata": {},
   "outputs": [],
   "source": [
    "y_pred = svm.predict(X_test)"
   ]
  },
  {
   "cell_type": "code",
   "execution_count": 193,
   "metadata": {},
   "outputs": [
    {
     "data": {
      "text/plain": [
       "0.8131868131868132"
      ]
     },
     "execution_count": 193,
     "metadata": {},
     "output_type": "execute_result"
    }
   ],
   "source": [
    "accuracy_score(y_test,y_pred)\n",
    "### The accuracy score is 81.31%"
   ]
  },
  {
   "cell_type": "code",
   "execution_count": 195,
   "metadata": {},
   "outputs": [],
   "source": [
    "### Lets do hyper parameter tuning\n",
    "param_grid = [\n",
    "  {'C': [1, 10, 100, 1000], 'kernel': ['linear','sigmoid','rbf'], 'gamma': [0.001, 0.0001,0.0005]}]"
   ]
  },
  {
   "cell_type": "code",
   "execution_count": 196,
   "metadata": {},
   "outputs": [
    {
     "data": {
      "text/plain": [
       "[{'C': [1, 10, 100, 1000],\n",
       "  'kernel': ['linear', 'sigmoid', 'rbf'],\n",
       "  'gamma': [0.001, 0.0001, 0.0005]}]"
      ]
     },
     "execution_count": 196,
     "metadata": {},
     "output_type": "execute_result"
    }
   ],
   "source": [
    "param_grid"
   ]
  },
  {
   "cell_type": "code",
   "execution_count": 197,
   "metadata": {},
   "outputs": [],
   "source": [
    "### GridSearchCV\n",
    "gridsearch = GridSearchCV(svm,param_grid)"
   ]
  },
  {
   "cell_type": "code",
   "execution_count": 198,
   "metadata": {},
   "outputs": [
    {
     "data": {
      "text/plain": [
       "GridSearchCV(cv=None, error_score=nan,\n",
       "             estimator=SVC(C=1, break_ties=False, cache_size=200,\n",
       "                           class_weight=None, coef0=0.0,\n",
       "                           decision_function_shape='ovr', degree=3,\n",
       "                           gamma='scale', kernel='sigmoid', max_iter=-1,\n",
       "                           probability=False, random_state=42, shrinking=True,\n",
       "                           tol=0.001, verbose=False),\n",
       "             iid='deprecated', n_jobs=None,\n",
       "             param_grid=[{'C': [1, 10, 100, 1000],\n",
       "                          'gamma': [0.001, 0.0001, 0.0005],\n",
       "                          'kernel': ['linear', 'sigmoid', 'rbf']}],\n",
       "             pre_dispatch='2*n_jobs', refit=True, return_train_score=False,\n",
       "             scoring=None, verbose=0)"
      ]
     },
     "execution_count": 198,
     "metadata": {},
     "output_type": "execute_result"
    }
   ],
   "source": [
    "gridsearch"
   ]
  },
  {
   "cell_type": "code",
   "execution_count": 199,
   "metadata": {},
   "outputs": [
    {
     "data": {
      "text/plain": [
       "GridSearchCV(cv=None, error_score=nan,\n",
       "             estimator=SVC(C=1, break_ties=False, cache_size=200,\n",
       "                           class_weight=None, coef0=0.0,\n",
       "                           decision_function_shape='ovr', degree=3,\n",
       "                           gamma='scale', kernel='sigmoid', max_iter=-1,\n",
       "                           probability=False, random_state=42, shrinking=True,\n",
       "                           tol=0.001, verbose=False),\n",
       "             iid='deprecated', n_jobs=None,\n",
       "             param_grid=[{'C': [1, 10, 100, 1000],\n",
       "                          'gamma': [0.001, 0.0001, 0.0005],\n",
       "                          'kernel': ['linear', 'sigmoid', 'rbf']}],\n",
       "             pre_dispatch='2*n_jobs', refit=True, return_train_score=False,\n",
       "             scoring=None, verbose=0)"
      ]
     },
     "execution_count": 199,
     "metadata": {},
     "output_type": "execute_result"
    }
   ],
   "source": [
    "gridsearch.fit(X_train,y_train)"
   ]
  },
  {
   "cell_type": "code",
   "execution_count": 200,
   "metadata": {},
   "outputs": [
    {
     "data": {
      "text/plain": [
       "{'C': 10, 'gamma': 0.001, 'kernel': 'linear'}"
      ]
     },
     "execution_count": 200,
     "metadata": {},
     "output_type": "execute_result"
    }
   ],
   "source": [
    "gridsearch.best_params_"
   ]
  },
  {
   "cell_type": "code",
   "execution_count": 201,
   "metadata": {},
   "outputs": [],
   "source": [
    "svm = SVC(kernel='linear',C=10,gamma=0.001,random_state=42).fit(X_train,y_train)"
   ]
  },
  {
   "cell_type": "code",
   "execution_count": 204,
   "metadata": {},
   "outputs": [
    {
     "data": {
      "text/plain": [
       "0.8820754716981132"
      ]
     },
     "execution_count": 204,
     "metadata": {},
     "output_type": "execute_result"
    }
   ],
   "source": [
    "svm.score(X_train,y_train)"
   ]
  },
  {
   "cell_type": "code",
   "execution_count": 205,
   "metadata": {},
   "outputs": [],
   "source": [
    "y_pred = svm.predict(X_test)"
   ]
  },
  {
   "cell_type": "code",
   "execution_count": 206,
   "metadata": {},
   "outputs": [
    {
     "data": {
      "text/plain": [
       "0.7802197802197802"
      ]
     },
     "execution_count": 206,
     "metadata": {},
     "output_type": "execute_result"
    }
   ],
   "source": [
    "accuracy_score(y_test,y_pred)\n",
    "## Our accuracy is reduced after hyper paramter tuning.. we need to tweak the values"
   ]
  },
  {
   "cell_type": "code",
   "execution_count": 207,
   "metadata": {},
   "outputs": [
    {
     "data": {
      "text/plain": [
       "LogisticRegression(C=1.0, class_weight=None, dual=False, fit_intercept=True,\n",
       "                   intercept_scaling=1, l1_ratio=None, max_iter=100,\n",
       "                   multi_class='auto', n_jobs=None, penalty='l2',\n",
       "                   random_state=None, solver='lbfgs', tol=0.0001, verbose=0,\n",
       "                   warm_start=False)"
      ]
     },
     "execution_count": 207,
     "metadata": {},
     "output_type": "execute_result"
    }
   ],
   "source": [
    "### In meanwhile lets try to apply LogisticRegression Algorithm\n",
    "log_reg = LogisticRegression()\n",
    "log_reg.fit(X_train,y_train)"
   ]
  },
  {
   "cell_type": "code",
   "execution_count": 209,
   "metadata": {},
   "outputs": [],
   "source": [
    "y_pred = log_reg.predict(X_test)"
   ]
  },
  {
   "cell_type": "code",
   "execution_count": 211,
   "metadata": {},
   "outputs": [
    {
     "data": {
      "text/plain": [
       "0.8131868131868132"
      ]
     },
     "execution_count": 211,
     "metadata": {},
     "output_type": "execute_result"
    }
   ],
   "source": [
    "accuracy = accuracy_score(y_test,y_pred)\n",
    "accuracy\n",
    "### Accuracy is 81.31%"
   ]
  },
  {
   "cell_type": "code",
   "execution_count": 214,
   "metadata": {},
   "outputs": [
    {
     "data": {
      "text/plain": [
       "array([[32,  9],\n",
       "       [ 8, 42]], dtype=int64)"
      ]
     },
     "execution_count": 214,
     "metadata": {},
     "output_type": "execute_result"
    }
   ],
   "source": [
    "# Confusion Matrix\n",
    "conf_mat = confusion_matrix(y_test,y_pred)\n",
    "conf_mat"
   ]
  },
  {
   "cell_type": "code",
   "execution_count": 216,
   "metadata": {},
   "outputs": [],
   "source": [
    "dtc = DecisionTreeClassifier()"
   ]
  },
  {
   "cell_type": "code",
   "execution_count": 217,
   "metadata": {},
   "outputs": [
    {
     "data": {
      "text/plain": [
       "DecisionTreeClassifier(ccp_alpha=0.0, class_weight=None, criterion='gini',\n",
       "                       max_depth=None, max_features=None, max_leaf_nodes=None,\n",
       "                       min_impurity_decrease=0.0, min_impurity_split=None,\n",
       "                       min_samples_leaf=1, min_samples_split=2,\n",
       "                       min_weight_fraction_leaf=0.0, presort='deprecated',\n",
       "                       random_state=None, splitter='best')"
      ]
     },
     "execution_count": 217,
     "metadata": {},
     "output_type": "execute_result"
    }
   ],
   "source": [
    "dtc"
   ]
  },
  {
   "cell_type": "code",
   "execution_count": 219,
   "metadata": {},
   "outputs": [
    {
     "data": {
      "text/plain": [
       "DecisionTreeClassifier(ccp_alpha=0.0, class_weight=None, criterion='gini',\n",
       "                       max_depth=None, max_features=None, max_leaf_nodes=None,\n",
       "                       min_impurity_decrease=0.0, min_impurity_split=None,\n",
       "                       min_samples_leaf=1, min_samples_split=2,\n",
       "                       min_weight_fraction_leaf=0.0, presort='deprecated',\n",
       "                       random_state=None, splitter='best')"
      ]
     },
     "execution_count": 219,
     "metadata": {},
     "output_type": "execute_result"
    }
   ],
   "source": [
    "dtc.fit(X_train,y_train)"
   ]
  },
  {
   "cell_type": "code",
   "execution_count": 220,
   "metadata": {},
   "outputs": [],
   "source": [
    "y_pred = dtc.predict(X_test)"
   ]
  },
  {
   "cell_type": "code",
   "execution_count": 221,
   "metadata": {},
   "outputs": [
    {
     "data": {
      "text/plain": [
       "0.7912087912087912"
      ]
     },
     "execution_count": 221,
     "metadata": {},
     "output_type": "execute_result"
    }
   ],
   "source": [
    "accuracy = accuracy_score(y_test,y_pred)\n",
    "accuracy\n",
    "### Accuracy is 79.12%"
   ]
  },
  {
   "cell_type": "code",
   "execution_count": 222,
   "metadata": {},
   "outputs": [],
   "source": [
    "### Random Forest Classifier\n",
    "rf = RandomForestClassifier()"
   ]
  },
  {
   "cell_type": "code",
   "execution_count": 223,
   "metadata": {},
   "outputs": [
    {
     "data": {
      "text/plain": [
       "RandomForestClassifier(bootstrap=True, ccp_alpha=0.0, class_weight=None,\n",
       "                       criterion='gini', max_depth=None, max_features='auto',\n",
       "                       max_leaf_nodes=None, max_samples=None,\n",
       "                       min_impurity_decrease=0.0, min_impurity_split=None,\n",
       "                       min_samples_leaf=1, min_samples_split=2,\n",
       "                       min_weight_fraction_leaf=0.0, n_estimators=100,\n",
       "                       n_jobs=None, oob_score=False, random_state=None,\n",
       "                       verbose=0, warm_start=False)"
      ]
     },
     "execution_count": 223,
     "metadata": {},
     "output_type": "execute_result"
    }
   ],
   "source": [
    "rf"
   ]
  },
  {
   "cell_type": "code",
   "execution_count": 224,
   "metadata": {},
   "outputs": [
    {
     "data": {
      "text/plain": [
       "RandomForestClassifier(bootstrap=True, ccp_alpha=0.0, class_weight=None,\n",
       "                       criterion='gini', max_depth=None, max_features='auto',\n",
       "                       max_leaf_nodes=None, max_samples=None,\n",
       "                       min_impurity_decrease=0.0, min_impurity_split=None,\n",
       "                       min_samples_leaf=1, min_samples_split=2,\n",
       "                       min_weight_fraction_leaf=0.0, n_estimators=100,\n",
       "                       n_jobs=None, oob_score=False, random_state=None,\n",
       "                       verbose=0, warm_start=False)"
      ]
     },
     "execution_count": 224,
     "metadata": {},
     "output_type": "execute_result"
    }
   ],
   "source": [
    "rf.fit(X_train, y_train)"
   ]
  },
  {
   "cell_type": "code",
   "execution_count": 228,
   "metadata": {},
   "outputs": [],
   "source": [
    "y_pred_rf = rf.predict(X_test)"
   ]
  },
  {
   "cell_type": "code",
   "execution_count": 229,
   "metadata": {},
   "outputs": [
    {
     "data": {
      "text/plain": [
       "0.7912087912087912"
      ]
     },
     "execution_count": 229,
     "metadata": {},
     "output_type": "execute_result"
    }
   ],
   "source": [
    "accuracy = accuracy_score(y_test,y_pred_rf)\n",
    "accuracy\n",
    "### Accuracy is 79.12%"
   ]
  },
  {
   "cell_type": "code",
   "execution_count": 230,
   "metadata": {},
   "outputs": [
    {
     "data": {
      "application/javascript": [
       "\n",
       "        if (window._pyforest_update_imports_cell) { window._pyforest_update_imports_cell('from sklearn.ensemble import GradientBoostingClassifier\\nfrom sklearn.ensemble import RandomForestRegressor\\nfrom sklearn.ensemble import GradientBoostingRegressor\\nimport datetime as dt'); }\n",
       "    "
      ],
      "text/plain": [
       "<IPython.core.display.Javascript object>"
      ]
     },
     "metadata": {},
     "output_type": "display_data"
    }
   ],
   "source": [
    "### Gradient boosting Classifier without tuning\n",
    "gbc = GradientBoostingClassifier(n_estimators = 300,max_depth=1,subsample=0.8,max_features=0.2,random_state=42)"
   ]
  },
  {
   "cell_type": "code",
   "execution_count": 232,
   "metadata": {},
   "outputs": [
    {
     "data": {
      "text/plain": [
       "GradientBoostingClassifier(ccp_alpha=0.0, criterion='friedman_mse', init=None,\n",
       "                           learning_rate=0.1, loss='deviance', max_depth=1,\n",
       "                           max_features=0.2, max_leaf_nodes=None,\n",
       "                           min_impurity_decrease=0.0, min_impurity_split=None,\n",
       "                           min_samples_leaf=1, min_samples_split=2,\n",
       "                           min_weight_fraction_leaf=0.0, n_estimators=300,\n",
       "                           n_iter_no_change=None, presort='deprecated',\n",
       "                           random_state=42, subsample=0.8, tol=0.0001,\n",
       "                           validation_fraction=0.1, verbose=0,\n",
       "                           warm_start=False)"
      ]
     },
     "execution_count": 232,
     "metadata": {},
     "output_type": "execute_result"
    }
   ],
   "source": [
    "gbc.fit(X_train,y_train)"
   ]
  },
  {
   "cell_type": "code",
   "execution_count": 234,
   "metadata": {},
   "outputs": [],
   "source": [
    "y_pred = gbc.predict(X_test)"
   ]
  },
  {
   "cell_type": "code",
   "execution_count": 235,
   "metadata": {},
   "outputs": [
    {
     "data": {
      "text/plain": [
       "0.8131868131868132"
      ]
     },
     "execution_count": 235,
     "metadata": {},
     "output_type": "execute_result"
    }
   ],
   "source": [
    "accuracy_score(y_test, y_pred)\n",
    "### 81.31% Accuracy"
   ]
  },
  {
   "cell_type": "code",
   "execution_count": null,
   "metadata": {},
   "outputs": [],
   "source": []
  },
  {
   "cell_type": "code",
   "execution_count": null,
   "metadata": {},
   "outputs": [],
   "source": []
  },
  {
   "cell_type": "code",
   "execution_count": null,
   "metadata": {},
   "outputs": [],
   "source": []
  },
  {
   "cell_type": "code",
   "execution_count": null,
   "metadata": {},
   "outputs": [],
   "source": []
  },
  {
   "cell_type": "code",
   "execution_count": null,
   "metadata": {},
   "outputs": [],
   "source": []
  },
  {
   "cell_type": "code",
   "execution_count": null,
   "metadata": {},
   "outputs": [],
   "source": []
  }
 ],
 "metadata": {
  "kernelspec": {
   "display_name": "Python (myenv)",
   "language": "python",
   "name": "myenv"
  },
  "language_info": {
   "codemirror_mode": {
    "name": "ipython",
    "version": 3
   },
   "file_extension": ".py",
   "mimetype": "text/x-python",
   "name": "python",
   "nbconvert_exporter": "python",
   "pygments_lexer": "ipython3",
   "version": "3.7.4"
  }
 },
 "nbformat": 4,
 "nbformat_minor": 2
}
